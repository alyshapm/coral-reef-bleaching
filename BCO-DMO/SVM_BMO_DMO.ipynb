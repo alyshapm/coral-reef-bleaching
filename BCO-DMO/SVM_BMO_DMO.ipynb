{
  "nbformat": 4,
  "nbformat_minor": 0,
  "metadata": {
    "colab": {
      "provenance": [],
      "toc_visible": true
    },
    "kernelspec": {
      "name": "python3",
      "display_name": "Python 3"
    },
    "language_info": {
      "name": "python"
    }
  },
  "cells": [
    {
      "cell_type": "markdown",
      "source": [
        "# Support Vector Machine Classification\n",
        "Source:\n",
        "1. https://hands-on.cloud/implementation-of-support-vector-machine-svm-using-python/\n",
        "2. https://towardsdatascience.com/multiclass-classification-with-support-vector-machines-svm-kernel-trick-kernel-functions-f9d5377d6f02"
      ],
      "metadata": {
        "id": "7OmgSO2AFk2H"
      }
    },
    {
      "cell_type": "code",
      "execution_count": 1,
      "metadata": {
        "id": "lieCzc84QDfj"
      },
      "outputs": [],
      "source": [
        "import pandas as pd"
      ]
    },
    {
      "cell_type": "code",
      "source": [
        "url = 'https://raw.githubusercontent.com/alyshapm/coral-reef-bleaching/main/dataset/global_bleaching_environmental_comma.csv'\n",
        "df = pd.read_csv(url)\n",
        "df.head()"
      ],
      "metadata": {
        "colab": {
          "base_uri": "https://localhost:8080/",
          "height": 456
        },
        "id": "mK_fB9Zh1etI",
        "outputId": "cc27be07-9575-40fa-b17f-ae2ece9dbfab"
      },
      "execution_count": 2,
      "outputs": [
        {
          "output_type": "execute_result",
          "data": {
            "text/plain": [
              "   Site_ID  Sample_ID Data_Source  Latitude_Degrees  Longitude_Degrees  \\\n",
              "0     2501   10324336      Donner            23.163           -82.5260   \n",
              "1     3467   10324754      Donner           -17.575          -149.7833   \n",
              "2     1794   10323866      Donner            18.369           -64.5640   \n",
              "3     8647   10328028      Donner            17.760           -64.5680   \n",
              "4     8648   10328029      Donner            17.769           -64.5830   \n",
              "\n",
              "  Ocean_Name Reef_ID            Realm_Name  \\\n",
              "0   Atlantic   -9999     Tropical Atlantic   \n",
              "1    Pacific   -9999  Eastern Indo-Pacific   \n",
              "2   Atlantic   -9999     Tropical Atlantic   \n",
              "3   Atlantic   -9999     Tropical Atlantic   \n",
              "4   Atlantic   -9999     Tropical Atlantic   \n",
              "\n",
              "                               Ecoregion_Name      Country_Name  ...  \\\n",
              "0                     Cuba and Cayman Islands              Cuba  ...   \n",
              "1            Society Islands French Polynesia  French Polynesia  ...   \n",
              "2  Hispaniola Puerto Rico and Lesser Antilles    United Kingdom  ...   \n",
              "3  Hispaniola Puerto Rico and Lesser Antilles     United States  ...   \n",
              "4  Hispaniola Puerto Rico and Lesser Antilles     United States  ...   \n",
              "\n",
              "  TSA_FrequencyMax TSA_FrequencyMean TSA_DHW  TSA_DHW_Standard_Deviation  \\\n",
              "0              5.0               0.0    0.00                        0.74   \n",
              "1              4.0               0.0    0.26                        0.67   \n",
              "2              7.0               0.0    0.00                        1.04   \n",
              "3              4.0               0.0    0.00                        0.75   \n",
              "4              5.0               0.0    0.00                        0.92   \n",
              "\n",
              "  TSA_DHWMax  TSA_DHWMean        Date  \\\n",
              "0       7.25         0.18  15/09/2005   \n",
              "1       4.65         0.19  15/03/1991   \n",
              "2      11.66         0.26  15/01/2006   \n",
              "3       5.64         0.20  15/04/2006   \n",
              "4       6.89         0.25  15/04/2006   \n",
              "\n",
              "                                       Site_Comments  \\\n",
              "0                                              -9999   \n",
              "1  The bleaching does not  appear to have gained ...   \n",
              "2                                              -9999   \n",
              "3                                              -9999   \n",
              "4                                              -9999   \n",
              "\n",
              "                                     Sample_Comments  Bleaching_Comments  \n",
              "0                                              -9999               -9999  \n",
              "1  The bleaching does not  appear to have gained ...               -9999  \n",
              "2                                              -9999               -9999  \n",
              "3                                              -9999               -9999  \n",
              "4                                              -9999               -9999  \n",
              "\n",
              "[5 rows x 62 columns]"
            ],
            "text/html": [
              "\n",
              "  <div id=\"df-ffc7aa21-b0ba-4970-a88e-833dec618e7c\">\n",
              "    <div class=\"colab-df-container\">\n",
              "      <div>\n",
              "<style scoped>\n",
              "    .dataframe tbody tr th:only-of-type {\n",
              "        vertical-align: middle;\n",
              "    }\n",
              "\n",
              "    .dataframe tbody tr th {\n",
              "        vertical-align: top;\n",
              "    }\n",
              "\n",
              "    .dataframe thead th {\n",
              "        text-align: right;\n",
              "    }\n",
              "</style>\n",
              "<table border=\"1\" class=\"dataframe\">\n",
              "  <thead>\n",
              "    <tr style=\"text-align: right;\">\n",
              "      <th></th>\n",
              "      <th>Site_ID</th>\n",
              "      <th>Sample_ID</th>\n",
              "      <th>Data_Source</th>\n",
              "      <th>Latitude_Degrees</th>\n",
              "      <th>Longitude_Degrees</th>\n",
              "      <th>Ocean_Name</th>\n",
              "      <th>Reef_ID</th>\n",
              "      <th>Realm_Name</th>\n",
              "      <th>Ecoregion_Name</th>\n",
              "      <th>Country_Name</th>\n",
              "      <th>...</th>\n",
              "      <th>TSA_FrequencyMax</th>\n",
              "      <th>TSA_FrequencyMean</th>\n",
              "      <th>TSA_DHW</th>\n",
              "      <th>TSA_DHW_Standard_Deviation</th>\n",
              "      <th>TSA_DHWMax</th>\n",
              "      <th>TSA_DHWMean</th>\n",
              "      <th>Date</th>\n",
              "      <th>Site_Comments</th>\n",
              "      <th>Sample_Comments</th>\n",
              "      <th>Bleaching_Comments</th>\n",
              "    </tr>\n",
              "  </thead>\n",
              "  <tbody>\n",
              "    <tr>\n",
              "      <th>0</th>\n",
              "      <td>2501</td>\n",
              "      <td>10324336</td>\n",
              "      <td>Donner</td>\n",
              "      <td>23.163</td>\n",
              "      <td>-82.5260</td>\n",
              "      <td>Atlantic</td>\n",
              "      <td>-9999</td>\n",
              "      <td>Tropical Atlantic</td>\n",
              "      <td>Cuba and Cayman Islands</td>\n",
              "      <td>Cuba</td>\n",
              "      <td>...</td>\n",
              "      <td>5.0</td>\n",
              "      <td>0.0</td>\n",
              "      <td>0.00</td>\n",
              "      <td>0.74</td>\n",
              "      <td>7.25</td>\n",
              "      <td>0.18</td>\n",
              "      <td>15/09/2005</td>\n",
              "      <td>-9999</td>\n",
              "      <td>-9999</td>\n",
              "      <td>-9999</td>\n",
              "    </tr>\n",
              "    <tr>\n",
              "      <th>1</th>\n",
              "      <td>3467</td>\n",
              "      <td>10324754</td>\n",
              "      <td>Donner</td>\n",
              "      <td>-17.575</td>\n",
              "      <td>-149.7833</td>\n",
              "      <td>Pacific</td>\n",
              "      <td>-9999</td>\n",
              "      <td>Eastern Indo-Pacific</td>\n",
              "      <td>Society Islands French Polynesia</td>\n",
              "      <td>French Polynesia</td>\n",
              "      <td>...</td>\n",
              "      <td>4.0</td>\n",
              "      <td>0.0</td>\n",
              "      <td>0.26</td>\n",
              "      <td>0.67</td>\n",
              "      <td>4.65</td>\n",
              "      <td>0.19</td>\n",
              "      <td>15/03/1991</td>\n",
              "      <td>The bleaching does not  appear to have gained ...</td>\n",
              "      <td>The bleaching does not  appear to have gained ...</td>\n",
              "      <td>-9999</td>\n",
              "    </tr>\n",
              "    <tr>\n",
              "      <th>2</th>\n",
              "      <td>1794</td>\n",
              "      <td>10323866</td>\n",
              "      <td>Donner</td>\n",
              "      <td>18.369</td>\n",
              "      <td>-64.5640</td>\n",
              "      <td>Atlantic</td>\n",
              "      <td>-9999</td>\n",
              "      <td>Tropical Atlantic</td>\n",
              "      <td>Hispaniola Puerto Rico and Lesser Antilles</td>\n",
              "      <td>United Kingdom</td>\n",
              "      <td>...</td>\n",
              "      <td>7.0</td>\n",
              "      <td>0.0</td>\n",
              "      <td>0.00</td>\n",
              "      <td>1.04</td>\n",
              "      <td>11.66</td>\n",
              "      <td>0.26</td>\n",
              "      <td>15/01/2006</td>\n",
              "      <td>-9999</td>\n",
              "      <td>-9999</td>\n",
              "      <td>-9999</td>\n",
              "    </tr>\n",
              "    <tr>\n",
              "      <th>3</th>\n",
              "      <td>8647</td>\n",
              "      <td>10328028</td>\n",
              "      <td>Donner</td>\n",
              "      <td>17.760</td>\n",
              "      <td>-64.5680</td>\n",
              "      <td>Atlantic</td>\n",
              "      <td>-9999</td>\n",
              "      <td>Tropical Atlantic</td>\n",
              "      <td>Hispaniola Puerto Rico and Lesser Antilles</td>\n",
              "      <td>United States</td>\n",
              "      <td>...</td>\n",
              "      <td>4.0</td>\n",
              "      <td>0.0</td>\n",
              "      <td>0.00</td>\n",
              "      <td>0.75</td>\n",
              "      <td>5.64</td>\n",
              "      <td>0.20</td>\n",
              "      <td>15/04/2006</td>\n",
              "      <td>-9999</td>\n",
              "      <td>-9999</td>\n",
              "      <td>-9999</td>\n",
              "    </tr>\n",
              "    <tr>\n",
              "      <th>4</th>\n",
              "      <td>8648</td>\n",
              "      <td>10328029</td>\n",
              "      <td>Donner</td>\n",
              "      <td>17.769</td>\n",
              "      <td>-64.5830</td>\n",
              "      <td>Atlantic</td>\n",
              "      <td>-9999</td>\n",
              "      <td>Tropical Atlantic</td>\n",
              "      <td>Hispaniola Puerto Rico and Lesser Antilles</td>\n",
              "      <td>United States</td>\n",
              "      <td>...</td>\n",
              "      <td>5.0</td>\n",
              "      <td>0.0</td>\n",
              "      <td>0.00</td>\n",
              "      <td>0.92</td>\n",
              "      <td>6.89</td>\n",
              "      <td>0.25</td>\n",
              "      <td>15/04/2006</td>\n",
              "      <td>-9999</td>\n",
              "      <td>-9999</td>\n",
              "      <td>-9999</td>\n",
              "    </tr>\n",
              "  </tbody>\n",
              "</table>\n",
              "<p>5 rows × 62 columns</p>\n",
              "</div>\n",
              "      <button class=\"colab-df-convert\" onclick=\"convertToInteractive('df-ffc7aa21-b0ba-4970-a88e-833dec618e7c')\"\n",
              "              title=\"Convert this dataframe to an interactive table.\"\n",
              "              style=\"display:none;\">\n",
              "        \n",
              "  <svg xmlns=\"http://www.w3.org/2000/svg\" height=\"24px\"viewBox=\"0 0 24 24\"\n",
              "       width=\"24px\">\n",
              "    <path d=\"M0 0h24v24H0V0z\" fill=\"none\"/>\n",
              "    <path d=\"M18.56 5.44l.94 2.06.94-2.06 2.06-.94-2.06-.94-.94-2.06-.94 2.06-2.06.94zm-11 1L8.5 8.5l.94-2.06 2.06-.94-2.06-.94L8.5 2.5l-.94 2.06-2.06.94zm10 10l.94 2.06.94-2.06 2.06-.94-2.06-.94-.94-2.06-.94 2.06-2.06.94z\"/><path d=\"M17.41 7.96l-1.37-1.37c-.4-.4-.92-.59-1.43-.59-.52 0-1.04.2-1.43.59L10.3 9.45l-7.72 7.72c-.78.78-.78 2.05 0 2.83L4 21.41c.39.39.9.59 1.41.59.51 0 1.02-.2 1.41-.59l7.78-7.78 2.81-2.81c.8-.78.8-2.07 0-2.86zM5.41 20L4 18.59l7.72-7.72 1.47 1.35L5.41 20z\"/>\n",
              "  </svg>\n",
              "      </button>\n",
              "      \n",
              "  <style>\n",
              "    .colab-df-container {\n",
              "      display:flex;\n",
              "      flex-wrap:wrap;\n",
              "      gap: 12px;\n",
              "    }\n",
              "\n",
              "    .colab-df-convert {\n",
              "      background-color: #E8F0FE;\n",
              "      border: none;\n",
              "      border-radius: 50%;\n",
              "      cursor: pointer;\n",
              "      display: none;\n",
              "      fill: #1967D2;\n",
              "      height: 32px;\n",
              "      padding: 0 0 0 0;\n",
              "      width: 32px;\n",
              "    }\n",
              "\n",
              "    .colab-df-convert:hover {\n",
              "      background-color: #E2EBFA;\n",
              "      box-shadow: 0px 1px 2px rgba(60, 64, 67, 0.3), 0px 1px 3px 1px rgba(60, 64, 67, 0.15);\n",
              "      fill: #174EA6;\n",
              "    }\n",
              "\n",
              "    [theme=dark] .colab-df-convert {\n",
              "      background-color: #3B4455;\n",
              "      fill: #D2E3FC;\n",
              "    }\n",
              "\n",
              "    [theme=dark] .colab-df-convert:hover {\n",
              "      background-color: #434B5C;\n",
              "      box-shadow: 0px 1px 3px 1px rgba(0, 0, 0, 0.15);\n",
              "      filter: drop-shadow(0px 1px 2px rgba(0, 0, 0, 0.3));\n",
              "      fill: #FFFFFF;\n",
              "    }\n",
              "  </style>\n",
              "\n",
              "      <script>\n",
              "        const buttonEl =\n",
              "          document.querySelector('#df-ffc7aa21-b0ba-4970-a88e-833dec618e7c button.colab-df-convert');\n",
              "        buttonEl.style.display =\n",
              "          google.colab.kernel.accessAllowed ? 'block' : 'none';\n",
              "\n",
              "        async function convertToInteractive(key) {\n",
              "          const element = document.querySelector('#df-ffc7aa21-b0ba-4970-a88e-833dec618e7c');\n",
              "          const dataTable =\n",
              "            await google.colab.kernel.invokeFunction('convertToInteractive',\n",
              "                                                     [key], {});\n",
              "          if (!dataTable) return;\n",
              "\n",
              "          const docLinkHtml = 'Like what you see? Visit the ' +\n",
              "            '<a target=\"_blank\" href=https://colab.research.google.com/notebooks/data_table.ipynb>data table notebook</a>'\n",
              "            + ' to learn more about interactive tables.';\n",
              "          element.innerHTML = '';\n",
              "          dataTable['output_type'] = 'display_data';\n",
              "          await google.colab.output.renderOutput(dataTable, element);\n",
              "          const docLink = document.createElement('div');\n",
              "          docLink.innerHTML = docLinkHtml;\n",
              "          element.appendChild(docLink);\n",
              "        }\n",
              "      </script>\n",
              "    </div>\n",
              "  </div>\n",
              "  "
            ]
          },
          "metadata": {},
          "execution_count": 2
        }
      ]
    },
    {
      "cell_type": "code",
      "source": [
        "df.info()"
      ],
      "metadata": {
        "colab": {
          "base_uri": "https://localhost:8080/"
        },
        "id": "yDTIkQS-3pKd",
        "outputId": "eaec5ead-7f09-40e5-e27d-623766595a92"
      },
      "execution_count": 3,
      "outputs": [
        {
          "output_type": "stream",
          "name": "stdout",
          "text": [
            "<class 'pandas.core.frame.DataFrame'>\n",
            "RangeIndex: 41361 entries, 0 to 41360\n",
            "Data columns (total 62 columns):\n",
            " #   Column                                 Non-Null Count  Dtype  \n",
            "---  ------                                 --------------  -----  \n",
            " 0   Site_ID                                41361 non-null  int64  \n",
            " 1   Sample_ID                              41361 non-null  int64  \n",
            " 2   Data_Source                            41361 non-null  object \n",
            " 3   Latitude_Degrees                       41361 non-null  float64\n",
            " 4   Longitude_Degrees                      41361 non-null  float64\n",
            " 5   Ocean_Name                             41361 non-null  object \n",
            " 6   Reef_ID                                41361 non-null  object \n",
            " 7   Realm_Name                             41361 non-null  object \n",
            " 8   Ecoregion_Name                         41361 non-null  object \n",
            " 9   Country_Name                           41361 non-null  object \n",
            " 10  State_Island_Province_Name             41361 non-null  object \n",
            " 11  City_Town_Name                         41361 non-null  object \n",
            " 12  Site_Name                              41361 non-null  object \n",
            " 13  Distance_to_Shore                      41361 non-null  float64\n",
            " 14  Exposure                               41361 non-null  object \n",
            " 15  Turbidity                              41361 non-null  float64\n",
            " 16  Cyclone_Frequency                      41361 non-null  float64\n",
            " 17  Date_Day                               41361 non-null  int64  \n",
            " 18  Date_Month                             41361 non-null  int64  \n",
            " 19  Date_Year                              41361 non-null  int64  \n",
            " 20  Depth_m                                41361 non-null  float64\n",
            " 21  Substrate_Name                         41361 non-null  object \n",
            " 22  Percent_Cover                          41361 non-null  float64\n",
            " 23  Bleaching_Level                        41361 non-null  object \n",
            " 24  Percent_Bleaching                      41361 non-null  float64\n",
            " 25  ClimSST                                41361 non-null  float64\n",
            " 26  Temperature_Kelvin                     41361 non-null  float64\n",
            " 27  Temperature_Mean                       41361 non-null  float64\n",
            " 28  Temperature_Minimum                    41361 non-null  float64\n",
            " 29  Temperature_Maximum                    41361 non-null  float64\n",
            " 30  Temperature_Kelvin_Standard_Deviation  41361 non-null  float64\n",
            " 31  Windspeed                              41361 non-null  float64\n",
            " 32  SSTA                                   41361 non-null  float64\n",
            " 33  SSTA_Standard_Deviation                41361 non-null  float64\n",
            " 34  SSTA_Mean                              41361 non-null  int64  \n",
            " 35  SSTA_Minimum                           41361 non-null  float64\n",
            " 36  SSTA_Maximum                           41361 non-null  float64\n",
            " 37  SSTA_Frequency                         41361 non-null  float64\n",
            " 38  SSTA_Frequency_Standard_Deviation      41361 non-null  float64\n",
            " 39  SSTA_FrequencyMax                      41361 non-null  float64\n",
            " 40  SSTA_FrequencyMean                     41361 non-null  float64\n",
            " 41  SSTA_DHW                               41361 non-null  float64\n",
            " 42  SSTA_DHW_Standard_Deviation            41361 non-null  float64\n",
            " 43  SSTA_DHWMax                            41361 non-null  float64\n",
            " 44  SSTA_DHWMean                           41361 non-null  float64\n",
            " 45  TSA                                    41361 non-null  float64\n",
            " 46  TSA_Standard_Deviation                 41361 non-null  float64\n",
            " 47  TSA_Minimum                            41361 non-null  float64\n",
            " 48  TSA_Maximum                            41361 non-null  float64\n",
            " 49  TSA_Mean                               41361 non-null  float64\n",
            " 50  TSA_Frequency                          41361 non-null  float64\n",
            " 51  TSA_Frequency_Standard_Deviation       41361 non-null  float64\n",
            " 52  TSA_FrequencyMax                       41361 non-null  float64\n",
            " 53  TSA_FrequencyMean                      41361 non-null  float64\n",
            " 54  TSA_DHW                                41361 non-null  float64\n",
            " 55  TSA_DHW_Standard_Deviation             41361 non-null  float64\n",
            " 56  TSA_DHWMax                             41361 non-null  float64\n",
            " 57  TSA_DHWMean                            41361 non-null  float64\n",
            " 58  Date                                   41361 non-null  object \n",
            " 59  Site_Comments                          41361 non-null  object \n",
            " 60  Sample_Comments                        41361 non-null  object \n",
            " 61  Bleaching_Comments                     41361 non-null  object \n",
            "dtypes: float64(40), int64(6), object(16)\n",
            "memory usage: 19.6+ MB\n"
          ]
        }
      ]
    },
    {
      "cell_type": "code",
      "source": [
        "df=df.replace(to_replace=-9999,value=0)\n",
        "df=df.replace(to_replace=\"-9999\",value=\"0\")\n",
        "df=df.replace(to_replace=\"Population\",value=\"1\")"
      ],
      "metadata": {
        "id": "VGoN8jaBvLDy"
      },
      "execution_count": 4,
      "outputs": []
    },
    {
      "cell_type": "code",
      "source": [
        "print(df[\"Bleaching_Level\"].unique())"
      ],
      "metadata": {
        "colab": {
          "base_uri": "https://localhost:8080/"
        },
        "id": "hAs_PdvzvowE",
        "outputId": "2281e350-e8cd-4a5d-889b-936e57b302a0"
      },
      "execution_count": 5,
      "outputs": [
        {
          "output_type": "stream",
          "name": "stdout",
          "text": [
            "['0' '1']\n"
          ]
        }
      ]
    },
    {
      "cell_type": "markdown",
      "source": [
        "SVM Single-class Classification"
      ],
      "metadata": {
        "id": "o_ShHzOtHJAY"
      }
    },
    {
      "cell_type": "code",
      "source": [
        "# importing the libraries\n",
        "import matplotlib.pyplot as plt\n",
        "import seaborn as sns\n",
        "import plotly.graph_objects as go\n",
        "import plotly.offline as pyoff"
      ],
      "metadata": {
        "id": "pXbx_jH2vzlP"
      },
      "execution_count": 6,
      "outputs": []
    },
    {
      "cell_type": "code",
      "source": [
        "# counting the total output data from purchased column\n",
        "target_balance = df['Bleaching_Level'].value_counts().reset_index()\n",
        "\n",
        "# dividing the output classes into two sections\n",
        "target_class = go.Bar(\n",
        "    name = 'Target Balance',\n",
        "    x = ['Not bleached', 'Bleached'],\n",
        "    y = target_balance['Bleaching_Level']\n",
        ")\n",
        "\n",
        "# ploting the output classes\n",
        "fig = go.Figure(target_class)\n",
        "pyoff.iplot(fig)"
      ],
      "metadata": {
        "colab": {
          "base_uri": "https://localhost:8080/",
          "height": 542
        },
        "id": "08XfBa9zv9aT",
        "outputId": "47a150f8-7400-4767-c6a2-f44208c9e2f4"
      },
      "execution_count": 7,
      "outputs": [
        {
          "output_type": "display_data",
          "data": {
            "text/html": [
              "<html>\n",
              "<head><meta charset=\"utf-8\" /></head>\n",
              "<body>\n",
              "    <div>            <script src=\"https://cdnjs.cloudflare.com/ajax/libs/mathjax/2.7.5/MathJax.js?config=TeX-AMS-MML_SVG\"></script><script type=\"text/javascript\">if (window.MathJax) {MathJax.Hub.Config({SVG: {font: \"STIX-Web\"}});}</script>                <script type=\"text/javascript\">window.PlotlyConfig = {MathJaxConfig: 'local'};</script>\n",
              "        <script src=\"https://cdn.plot.ly/plotly-2.8.3.min.js\"></script>                <div id=\"e1057bf8-3795-43b0-b4c6-901ff1443c4b\" class=\"plotly-graph-div\" style=\"height:525px; width:100%;\"></div>            <script type=\"text/javascript\">                                    window.PLOTLYENV=window.PLOTLYENV || {};                                    if (document.getElementById(\"e1057bf8-3795-43b0-b4c6-901ff1443c4b\")) {                    Plotly.newPlot(                        \"e1057bf8-3795-43b0-b4c6-901ff1443c4b\",                        [{\"name\":\"Target Balance\",\"x\":[\"Not bleached\",\"Bleached\"],\"y\":[22531,18830],\"type\":\"bar\"}],                        {\"template\":{\"data\":{\"barpolar\":[{\"marker\":{\"line\":{\"color\":\"#E5ECF6\",\"width\":0.5},\"pattern\":{\"fillmode\":\"overlay\",\"size\":10,\"solidity\":0.2}},\"type\":\"barpolar\"}],\"bar\":[{\"error_x\":{\"color\":\"#2a3f5f\"},\"error_y\":{\"color\":\"#2a3f5f\"},\"marker\":{\"line\":{\"color\":\"#E5ECF6\",\"width\":0.5},\"pattern\":{\"fillmode\":\"overlay\",\"size\":10,\"solidity\":0.2}},\"type\":\"bar\"}],\"carpet\":[{\"aaxis\":{\"endlinecolor\":\"#2a3f5f\",\"gridcolor\":\"white\",\"linecolor\":\"white\",\"minorgridcolor\":\"white\",\"startlinecolor\":\"#2a3f5f\"},\"baxis\":{\"endlinecolor\":\"#2a3f5f\",\"gridcolor\":\"white\",\"linecolor\":\"white\",\"minorgridcolor\":\"white\",\"startlinecolor\":\"#2a3f5f\"},\"type\":\"carpet\"}],\"choropleth\":[{\"colorbar\":{\"outlinewidth\":0,\"ticks\":\"\"},\"type\":\"choropleth\"}],\"contourcarpet\":[{\"colorbar\":{\"outlinewidth\":0,\"ticks\":\"\"},\"type\":\"contourcarpet\"}],\"contour\":[{\"colorbar\":{\"outlinewidth\":0,\"ticks\":\"\"},\"colorscale\":[[0.0,\"#0d0887\"],[0.1111111111111111,\"#46039f\"],[0.2222222222222222,\"#7201a8\"],[0.3333333333333333,\"#9c179e\"],[0.4444444444444444,\"#bd3786\"],[0.5555555555555556,\"#d8576b\"],[0.6666666666666666,\"#ed7953\"],[0.7777777777777778,\"#fb9f3a\"],[0.8888888888888888,\"#fdca26\"],[1.0,\"#f0f921\"]],\"type\":\"contour\"}],\"heatmapgl\":[{\"colorbar\":{\"outlinewidth\":0,\"ticks\":\"\"},\"colorscale\":[[0.0,\"#0d0887\"],[0.1111111111111111,\"#46039f\"],[0.2222222222222222,\"#7201a8\"],[0.3333333333333333,\"#9c179e\"],[0.4444444444444444,\"#bd3786\"],[0.5555555555555556,\"#d8576b\"],[0.6666666666666666,\"#ed7953\"],[0.7777777777777778,\"#fb9f3a\"],[0.8888888888888888,\"#fdca26\"],[1.0,\"#f0f921\"]],\"type\":\"heatmapgl\"}],\"heatmap\":[{\"colorbar\":{\"outlinewidth\":0,\"ticks\":\"\"},\"colorscale\":[[0.0,\"#0d0887\"],[0.1111111111111111,\"#46039f\"],[0.2222222222222222,\"#7201a8\"],[0.3333333333333333,\"#9c179e\"],[0.4444444444444444,\"#bd3786\"],[0.5555555555555556,\"#d8576b\"],[0.6666666666666666,\"#ed7953\"],[0.7777777777777778,\"#fb9f3a\"],[0.8888888888888888,\"#fdca26\"],[1.0,\"#f0f921\"]],\"type\":\"heatmap\"}],\"histogram2dcontour\":[{\"colorbar\":{\"outlinewidth\":0,\"ticks\":\"\"},\"colorscale\":[[0.0,\"#0d0887\"],[0.1111111111111111,\"#46039f\"],[0.2222222222222222,\"#7201a8\"],[0.3333333333333333,\"#9c179e\"],[0.4444444444444444,\"#bd3786\"],[0.5555555555555556,\"#d8576b\"],[0.6666666666666666,\"#ed7953\"],[0.7777777777777778,\"#fb9f3a\"],[0.8888888888888888,\"#fdca26\"],[1.0,\"#f0f921\"]],\"type\":\"histogram2dcontour\"}],\"histogram2d\":[{\"colorbar\":{\"outlinewidth\":0,\"ticks\":\"\"},\"colorscale\":[[0.0,\"#0d0887\"],[0.1111111111111111,\"#46039f\"],[0.2222222222222222,\"#7201a8\"],[0.3333333333333333,\"#9c179e\"],[0.4444444444444444,\"#bd3786\"],[0.5555555555555556,\"#d8576b\"],[0.6666666666666666,\"#ed7953\"],[0.7777777777777778,\"#fb9f3a\"],[0.8888888888888888,\"#fdca26\"],[1.0,\"#f0f921\"]],\"type\":\"histogram2d\"}],\"histogram\":[{\"marker\":{\"pattern\":{\"fillmode\":\"overlay\",\"size\":10,\"solidity\":0.2}},\"type\":\"histogram\"}],\"mesh3d\":[{\"colorbar\":{\"outlinewidth\":0,\"ticks\":\"\"},\"type\":\"mesh3d\"}],\"parcoords\":[{\"line\":{\"colorbar\":{\"outlinewidth\":0,\"ticks\":\"\"}},\"type\":\"parcoords\"}],\"pie\":[{\"automargin\":true,\"type\":\"pie\"}],\"scatter3d\":[{\"line\":{\"colorbar\":{\"outlinewidth\":0,\"ticks\":\"\"}},\"marker\":{\"colorbar\":{\"outlinewidth\":0,\"ticks\":\"\"}},\"type\":\"scatter3d\"}],\"scattercarpet\":[{\"marker\":{\"colorbar\":{\"outlinewidth\":0,\"ticks\":\"\"}},\"type\":\"scattercarpet\"}],\"scattergeo\":[{\"marker\":{\"colorbar\":{\"outlinewidth\":0,\"ticks\":\"\"}},\"type\":\"scattergeo\"}],\"scattergl\":[{\"marker\":{\"colorbar\":{\"outlinewidth\":0,\"ticks\":\"\"}},\"type\":\"scattergl\"}],\"scattermapbox\":[{\"marker\":{\"colorbar\":{\"outlinewidth\":0,\"ticks\":\"\"}},\"type\":\"scattermapbox\"}],\"scatterpolargl\":[{\"marker\":{\"colorbar\":{\"outlinewidth\":0,\"ticks\":\"\"}},\"type\":\"scatterpolargl\"}],\"scatterpolar\":[{\"marker\":{\"colorbar\":{\"outlinewidth\":0,\"ticks\":\"\"}},\"type\":\"scatterpolar\"}],\"scatter\":[{\"marker\":{\"colorbar\":{\"outlinewidth\":0,\"ticks\":\"\"}},\"type\":\"scatter\"}],\"scatterternary\":[{\"marker\":{\"colorbar\":{\"outlinewidth\":0,\"ticks\":\"\"}},\"type\":\"scatterternary\"}],\"surface\":[{\"colorbar\":{\"outlinewidth\":0,\"ticks\":\"\"},\"colorscale\":[[0.0,\"#0d0887\"],[0.1111111111111111,\"#46039f\"],[0.2222222222222222,\"#7201a8\"],[0.3333333333333333,\"#9c179e\"],[0.4444444444444444,\"#bd3786\"],[0.5555555555555556,\"#d8576b\"],[0.6666666666666666,\"#ed7953\"],[0.7777777777777778,\"#fb9f3a\"],[0.8888888888888888,\"#fdca26\"],[1.0,\"#f0f921\"]],\"type\":\"surface\"}],\"table\":[{\"cells\":{\"fill\":{\"color\":\"#EBF0F8\"},\"line\":{\"color\":\"white\"}},\"header\":{\"fill\":{\"color\":\"#C8D4E3\"},\"line\":{\"color\":\"white\"}},\"type\":\"table\"}]},\"layout\":{\"annotationdefaults\":{\"arrowcolor\":\"#2a3f5f\",\"arrowhead\":0,\"arrowwidth\":1},\"autotypenumbers\":\"strict\",\"coloraxis\":{\"colorbar\":{\"outlinewidth\":0,\"ticks\":\"\"}},\"colorscale\":{\"diverging\":[[0,\"#8e0152\"],[0.1,\"#c51b7d\"],[0.2,\"#de77ae\"],[0.3,\"#f1b6da\"],[0.4,\"#fde0ef\"],[0.5,\"#f7f7f7\"],[0.6,\"#e6f5d0\"],[0.7,\"#b8e186\"],[0.8,\"#7fbc41\"],[0.9,\"#4d9221\"],[1,\"#276419\"]],\"sequential\":[[0.0,\"#0d0887\"],[0.1111111111111111,\"#46039f\"],[0.2222222222222222,\"#7201a8\"],[0.3333333333333333,\"#9c179e\"],[0.4444444444444444,\"#bd3786\"],[0.5555555555555556,\"#d8576b\"],[0.6666666666666666,\"#ed7953\"],[0.7777777777777778,\"#fb9f3a\"],[0.8888888888888888,\"#fdca26\"],[1.0,\"#f0f921\"]],\"sequentialminus\":[[0.0,\"#0d0887\"],[0.1111111111111111,\"#46039f\"],[0.2222222222222222,\"#7201a8\"],[0.3333333333333333,\"#9c179e\"],[0.4444444444444444,\"#bd3786\"],[0.5555555555555556,\"#d8576b\"],[0.6666666666666666,\"#ed7953\"],[0.7777777777777778,\"#fb9f3a\"],[0.8888888888888888,\"#fdca26\"],[1.0,\"#f0f921\"]]},\"colorway\":[\"#636efa\",\"#EF553B\",\"#00cc96\",\"#ab63fa\",\"#FFA15A\",\"#19d3f3\",\"#FF6692\",\"#B6E880\",\"#FF97FF\",\"#FECB52\"],\"font\":{\"color\":\"#2a3f5f\"},\"geo\":{\"bgcolor\":\"white\",\"lakecolor\":\"white\",\"landcolor\":\"#E5ECF6\",\"showlakes\":true,\"showland\":true,\"subunitcolor\":\"white\"},\"hoverlabel\":{\"align\":\"left\"},\"hovermode\":\"closest\",\"mapbox\":{\"style\":\"light\"},\"paper_bgcolor\":\"white\",\"plot_bgcolor\":\"#E5ECF6\",\"polar\":{\"angularaxis\":{\"gridcolor\":\"white\",\"linecolor\":\"white\",\"ticks\":\"\"},\"bgcolor\":\"#E5ECF6\",\"radialaxis\":{\"gridcolor\":\"white\",\"linecolor\":\"white\",\"ticks\":\"\"}},\"scene\":{\"xaxis\":{\"backgroundcolor\":\"#E5ECF6\",\"gridcolor\":\"white\",\"gridwidth\":2,\"linecolor\":\"white\",\"showbackground\":true,\"ticks\":\"\",\"zerolinecolor\":\"white\"},\"yaxis\":{\"backgroundcolor\":\"#E5ECF6\",\"gridcolor\":\"white\",\"gridwidth\":2,\"linecolor\":\"white\",\"showbackground\":true,\"ticks\":\"\",\"zerolinecolor\":\"white\"},\"zaxis\":{\"backgroundcolor\":\"#E5ECF6\",\"gridcolor\":\"white\",\"gridwidth\":2,\"linecolor\":\"white\",\"showbackground\":true,\"ticks\":\"\",\"zerolinecolor\":\"white\"}},\"shapedefaults\":{\"line\":{\"color\":\"#2a3f5f\"}},\"ternary\":{\"aaxis\":{\"gridcolor\":\"white\",\"linecolor\":\"white\",\"ticks\":\"\"},\"baxis\":{\"gridcolor\":\"white\",\"linecolor\":\"white\",\"ticks\":\"\"},\"bgcolor\":\"#E5ECF6\",\"caxis\":{\"gridcolor\":\"white\",\"linecolor\":\"white\",\"ticks\":\"\"}},\"title\":{\"x\":0.05},\"xaxis\":{\"automargin\":true,\"gridcolor\":\"white\",\"linecolor\":\"white\",\"ticks\":\"\",\"title\":{\"standoff\":15},\"zerolinecolor\":\"white\",\"zerolinewidth\":2},\"yaxis\":{\"automargin\":true,\"gridcolor\":\"white\",\"linecolor\":\"white\",\"ticks\":\"\",\"title\":{\"standoff\":15},\"zerolinecolor\":\"white\",\"zerolinewidth\":2}}}},                        {\"responsive\": true}                    ).then(function(){\n",
              "                            \n",
              "var gd = document.getElementById('e1057bf8-3795-43b0-b4c6-901ff1443c4b');\n",
              "var x = new MutationObserver(function (mutations, observer) {{\n",
              "        var display = window.getComputedStyle(gd).display;\n",
              "        if (!display || display === 'none') {{\n",
              "            console.log([gd, 'removed!']);\n",
              "            Plotly.purge(gd);\n",
              "            observer.disconnect();\n",
              "        }}\n",
              "}});\n",
              "\n",
              "// Listen for the removal of the full notebook cells\n",
              "var notebookContainer = gd.closest('#notebook-container');\n",
              "if (notebookContainer) {{\n",
              "    x.observe(notebookContainer, {childList: true});\n",
              "}}\n",
              "\n",
              "// Listen for the clearing of the current output cell\n",
              "var outputEl = gd.closest('.output');\n",
              "if (outputEl) {{\n",
              "    x.observe(outputEl, {childList: true});\n",
              "}}\n",
              "\n",
              "                        })                };                            </script>        </div>\n",
              "</body>\n",
              "</html>"
            ]
          },
          "metadata": {}
        }
      ]
    },
    {
      "cell_type": "code",
      "source": [
        "# training and testing data\n",
        "from sklearn.model_selection import train_test_split\n",
        "\n",
        "# split the data into inputs and outputs\n",
        "X = df[['Temperature_Mean', 'Windspeed']]\n",
        "y = df['Bleaching_Level'] # target class\n",
        "\n",
        "# assign test data size 25%\n",
        "X_train, X_test, y_train, y_test =train_test_split(X, y, test_size=0.25, random_state=0)"
      ],
      "metadata": {
        "id": "yiTHdY0Wwukv"
      },
      "execution_count": 8,
      "outputs": []
    },
    {
      "cell_type": "code",
      "source": [
        "# importing StandardScaler\n",
        "from sklearn.preprocessing import StandardScaler\n",
        "\n",
        "# scalling the input data\n",
        "sc_X = StandardScaler() \n",
        "X_train = sc_X.fit_transform(X_train)\n",
        "X_test = sc_X.fit_transform(X_test)"
      ],
      "metadata": {
        "id": "IUrDMwGUxGB3"
      },
      "execution_count": 9,
      "outputs": []
    },
    {
      "cell_type": "code",
      "source": [
        "from sklearn import svm\n",
        "\n",
        "linear = svm.SVC(kernel='linear', C=1, decision_function_shape='ovo').fit(X_train, y_train)\n",
        "rbf = svm.SVC(kernel='rbf', gamma=1, C=1, decision_function_shape='ovo').fit(X_train, y_train)\n",
        "poly = svm.SVC(kernel='poly', degree=3, C=1, decision_function_shape='ovo').fit(X_train, y_train)\n",
        "sig = svm.SVC(kernel='sigmoid', C=1, decision_function_shape='ovo').fit(X_train, y_train)"
      ],
      "metadata": {
        "id": "nNMMYZJN6Fu6"
      },
      "execution_count": 10,
      "outputs": []
    },
    {
      "cell_type": "code",
      "source": [
        "# import numpy as np\n",
        "\n",
        "# #stepsize in the mesh, it alters the accuracy of the plotprint\n",
        "# #to better understand it, just play with the value, change it and print it\n",
        "# h = .01\n",
        "# #create the mesh\n",
        "# x_min, x_max = X.iloc[:, 0].min() - 1, X.iloc[:, 0].max() + 1\n",
        "# y_min, y_max = X.iloc[:, 1].min() - 1, X.iloc[:, 1].max() + 1\n",
        "# xx, yy = np.meshgrid(np.arange(x_min, x_max, h),np.arange(y_min, y_max, h))\n",
        "# # create the title that will be shown on the plot\n",
        "# titles = ['Linear kernel','RBF kernel','Polynomial kernel','Sigmoid kernel']\n",
        "\n",
        "# for i, clf in enumerate((linear, rbf, poly, sig)):\n",
        "#     #defines how many plots: 2 rows, 2columns=> leading to 4 plots\n",
        "#     plt.subplot(2, 2, i + 1) #i+1 is the index\n",
        "#     #space between plots\n",
        "#     plt.subplots_adjust(wspace=0.4, hspace=0.4) \n",
        "#     Z = clf.predict(np.c_[xx.ravel(), yy.ravel()])\n",
        "#     # Put the result into a color plot\n",
        "#     Z = Z.reshape(xx.shape)\n",
        "#     plt.contourf(xx, yy, Z, cmap=plt.cm.PuBuGn, alpha=0.7)\n",
        "#     # Plot also the training points\n",
        "#     plt.scatter(X[:, 0], X[:, 1], c=y, cmap=plt.cm.PuBuGn,     edgecolors='grey')\n",
        "#     plt.xlabel('Sepal length')\n",
        "#     plt.ylabel('Sepal width')\n",
        "#     plt.xlim(xx.min(), xx.max())\n",
        "#     plt.ylim(yy.min(), yy.max())\n",
        "#     plt.xticks(())\n",
        "#     plt.yticks(())\n",
        "#     plt.title(titles[i])\n",
        "#     plt.show()"
      ],
      "metadata": {
        "id": "NfOrDxUX6YLV"
      },
      "execution_count": 11,
      "outputs": []
    },
    {
      "cell_type": "code",
      "source": [
        "linear_pred = linear.predict(X_test)\n",
        "poly_pred = poly.predict(X_test)\n",
        "rbf_pred = rbf.predict(X_test)\n",
        "sig_pred = sig.predict(X_test)\n",
        "\n",
        "# retrieve the accuracy and print it for all 4 kernel functions\n",
        "accuracy_lin = linear.score(X_test, y_test)\n",
        "accuracy_poly = poly.score(X_test, y_test)\n",
        "accuracy_rbf = rbf.score(X_test, y_test)\n",
        "accuracy_sig = sig.score(X_test, y_test)\n",
        "\n",
        "print(\"Accuracy Linear Kernel:\", accuracy_lin)\n",
        "print(\"Accuracy Polynomial Kernel:\", accuracy_poly)\n",
        "print(\"Accuracy Radial Basis Kernel:\", accuracy_rbf)\n",
        "print(\"Accuracy Sigmoid Kernel:\", accuracy_sig)"
      ],
      "metadata": {
        "colab": {
          "base_uri": "https://localhost:8080/"
        },
        "id": "RlJ7XJgi6an2",
        "outputId": "9b928485-7f64-4dc7-b746-467cbd8f4356"
      },
      "execution_count": 13,
      "outputs": [
        {
          "output_type": "stream",
          "name": "stdout",
          "text": [
            "Accuracy Linear Kernel: 0.5410501885697708\n",
            "Accuracy Polynomial Kernel: 0.5411468910163427\n",
            "Accuracy Radial Basis Kernel: 0.6045836959675079\n",
            "Accuracy Sigmoid Kernel: 0.4608838603616672\n"
          ]
        }
      ]
    },
    {
      "cell_type": "code",
      "source": [
        "import numpy as np\n",
        "from matplotlib.colors import ListedColormap\n",
        "\n",
        "# ploting graph of size 7,7\n",
        "plt.figure(figsize = (7,7))\n",
        "\n",
        "# assigning the testing dataset\n",
        "X_set, y_set = X_test, y_test\n",
        "\n",
        "# ploting the predicted graph\n",
        "X1, X2 = np.meshgrid(np.arange(start = X_set[:, 0].min() - 1, stop = X_set[:, 0].max() + 1, step = 0.5),np.arange(start = X_set[:, 1].min() - 1, stop = X_set[:, 1].max() + 1, step = 0.5))\n",
        "plt.contourf(X1, X2, rbf.predict(np.array([X1.ravel(), X2.ravel()]).T).reshape(X1.shape),alpha = 0.75, cmap = ListedColormap(('black', 'green')))\n",
        "plt.xlim(X1.min(), X1.max())\n",
        "plt.ylim(X2.min(), X2.max())\n",
        "\n",
        "# plorting scattred graph for the testing values\n",
        "for i, j in enumerate(np.unique(y_set)):\n",
        "    plt.scatter(X_set[y_set == j, 0], X_set[y_set == j, 1],c = ListedColormap(('red', 'blue'))(i), label = j)\n",
        "\n",
        "# labelling the graphe\n",
        "plt.title('Bleached vs Not-bleached predictions')\n",
        "plt.xlabel('temperature')\n",
        "plt.ylabel('windspeed')\n",
        "plt.legend()\n",
        "plt.show()"
      ],
      "metadata": {
        "colab": {
          "base_uri": "https://localhost:8080/",
          "height": 514
        },
        "id": "-CbkWGRZ_HBC",
        "outputId": "ed214cb8-b597-4b68-fad5-04a183dae945"
      },
      "execution_count": 16,
      "outputs": [
        {
          "output_type": "stream",
          "name": "stderr",
          "text": [
            "WARNING:matplotlib.axes._axes:*c* argument looks like a single numeric RGB or RGBA sequence, which should be avoided as value-mapping will have precedence in case its length matches with *x* & *y*.  Please use the *color* keyword-argument or provide a 2-D array with a single row if you intend to specify the same RGB or RGBA value for all points.\n",
            "WARNING:matplotlib.axes._axes:*c* argument looks like a single numeric RGB or RGBA sequence, which should be avoided as value-mapping will have precedence in case its length matches with *x* & *y*.  Please use the *color* keyword-argument or provide a 2-D array with a single row if you intend to specify the same RGB or RGBA value for all points.\n"
          ]
        },
        {
          "output_type": "display_data",
          "data": {
            "text/plain": [
              "<Figure size 504x504 with 1 Axes>"
            ],
            "image/png": "[encoded data removed]"
          },
          "metadata": {
            "needs_background": "light"
          }
        }
      ]
    }
  ]
}
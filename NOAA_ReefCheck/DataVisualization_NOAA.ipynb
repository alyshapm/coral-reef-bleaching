{
  "nbformat": 4,
  "nbformat_minor": 0,
  "metadata": {
    "colab": {
      "provenance": []
    },
    "kernelspec": {
      "name": "python3",
      "display_name": "Python 3"
    },
    "language_info": {
      "name": "python"
    }
  },
  "cells": [
    {
      "cell_type": "markdown",
      "source": [
        "# Data Visualization\n",
        "Dataset: NOAA Reef Check Bleaching Data from Kaggle\n",
        "\n",
        "Link: https://www.kaggle.com/datasets/oasisdata/noaa-reef-check-coral-bleaching-data\n",
        "\n",
        "The dataset has been prepared beforehand and the CSV can be found at: \n",
        "\n",
        "https://github.com/alyshapm/coral-reef-bleaching/blob/main/NOAA_ReefCheck/NOAA_int.csv\n",
        "\n",
        "Visualizing the data of the NOAA dataset to understand the contents more in depth and the distribution of the variables."
      ],
      "metadata": {
        "id": "T5qDKBjE2iwL"
      }
    },
    {
      "cell_type": "code",
      "source": [
        "# Importing necessary libraries\n",
        "import pandas as pd\n",
        "import matplotlib.pyplot as plt\n",
        "import seaborn as sns\n",
        "import scipy\n",
        "import statsmodels.formula.api as smf\n",
        "import statsmodels.api as sm"
      ],
      "metadata": {
        "id": "bRktg8XO2Yyr"
      },
      "execution_count": 6,
      "outputs": []
    },
    {
      "cell_type": "code",
      "execution_count": 7,
      "metadata": {
        "colab": {
          "base_uri": "https://localhost:8080/",
          "height": 206
        },
        "id": "wpRQr93L1Ow5",
        "outputId": "db6912df-62fb-4165-bfad-caf4398333a8"
      },
      "outputs": [
        {
          "output_type": "execute_result",
          "data": {
            "text/plain": [
              "   Bleaching     Ocean  Year  Depth  Storms  HumanImpact  Siltation  Dynamite  \\\n",
              "0          0  Atlantic  2005    4.0       1            3          2         0   \n",
              "1          0   Red Sea  2004    6.0       0            3          1         0   \n",
              "2          0   Pacific  1998    3.0       0            1          0         0   \n",
              "3          0   Pacific  1998   10.0       0            1          0         0   \n",
              "4          0  Atlantic  1997   10.0       0            3          0         0   \n",
              "\n",
              "   Poison  Sewage  Industrial  Commercial  \n",
              "0       0       3           0           0  \n",
              "1       0       1           0           0  \n",
              "2       0       0           1           0  \n",
              "3       0       0           1           0  \n",
              "4       0       3           2           0  "
            ],
            "text/html": [
              "\n",
              "  <div id=\"df-5368e5ab-2e16-414e-bf3d-6db993e7212a\">\n",
              "    <div class=\"colab-df-container\">\n",
              "      <div>\n",
              "<style scoped>\n",
              "    .dataframe tbody tr th:only-of-type {\n",
              "        vertical-align: middle;\n",
              "    }\n",
              "\n",
              "    .dataframe tbody tr th {\n",
              "        vertical-align: top;\n",
              "    }\n",
              "\n",
              "    .dataframe thead th {\n",
              "        text-align: right;\n",
              "    }\n",
              "</style>\n",
              "<table border=\"1\" class=\"dataframe\">\n",
              "  <thead>\n",
              "    <tr style=\"text-align: right;\">\n",
              "      <th></th>\n",
              "      <th>Bleaching</th>\n",
              "      <th>Ocean</th>\n",
              "      <th>Year</th>\n",
              "      <th>Depth</th>\n",
              "      <th>Storms</th>\n",
              "      <th>HumanImpact</th>\n",
              "      <th>Siltation</th>\n",
              "      <th>Dynamite</th>\n",
              "      <th>Poison</th>\n",
              "      <th>Sewage</th>\n",
              "      <th>Industrial</th>\n",
              "      <th>Commercial</th>\n",
              "    </tr>\n",
              "  </thead>\n",
              "  <tbody>\n",
              "    <tr>\n",
              "      <th>0</th>\n",
              "      <td>0</td>\n",
              "      <td>Atlantic</td>\n",
              "      <td>2005</td>\n",
              "      <td>4.0</td>\n",
              "      <td>1</td>\n",
              "      <td>3</td>\n",
              "      <td>2</td>\n",
              "      <td>0</td>\n",
              "      <td>0</td>\n",
              "      <td>3</td>\n",
              "      <td>0</td>\n",
              "      <td>0</td>\n",
              "    </tr>\n",
              "    <tr>\n",
              "      <th>1</th>\n",
              "      <td>0</td>\n",
              "      <td>Red Sea</td>\n",
              "      <td>2004</td>\n",
              "      <td>6.0</td>\n",
              "      <td>0</td>\n",
              "      <td>3</td>\n",
              "      <td>1</td>\n",
              "      <td>0</td>\n",
              "      <td>0</td>\n",
              "      <td>1</td>\n",
              "      <td>0</td>\n",
              "      <td>0</td>\n",
              "    </tr>\n",
              "    <tr>\n",
              "      <th>2</th>\n",
              "      <td>0</td>\n",
              "      <td>Pacific</td>\n",
              "      <td>1998</td>\n",
              "      <td>3.0</td>\n",
              "      <td>0</td>\n",
              "      <td>1</td>\n",
              "      <td>0</td>\n",
              "      <td>0</td>\n",
              "      <td>0</td>\n",
              "      <td>0</td>\n",
              "      <td>1</td>\n",
              "      <td>0</td>\n",
              "    </tr>\n",
              "    <tr>\n",
              "      <th>3</th>\n",
              "      <td>0</td>\n",
              "      <td>Pacific</td>\n",
              "      <td>1998</td>\n",
              "      <td>10.0</td>\n",
              "      <td>0</td>\n",
              "      <td>1</td>\n",
              "      <td>0</td>\n",
              "      <td>0</td>\n",
              "      <td>0</td>\n",
              "      <td>0</td>\n",
              "      <td>1</td>\n",
              "      <td>0</td>\n",
              "    </tr>\n",
              "    <tr>\n",
              "      <th>4</th>\n",
              "      <td>0</td>\n",
              "      <td>Atlantic</td>\n",
              "      <td>1997</td>\n",
              "      <td>10.0</td>\n",
              "      <td>0</td>\n",
              "      <td>3</td>\n",
              "      <td>0</td>\n",
              "      <td>0</td>\n",
              "      <td>0</td>\n",
              "      <td>3</td>\n",
              "      <td>2</td>\n",
              "      <td>0</td>\n",
              "    </tr>\n",
              "  </tbody>\n",
              "</table>\n",
              "</div>\n",
              "      <button class=\"colab-df-convert\" onclick=\"convertToInteractive('df-5368e5ab-2e16-414e-bf3d-6db993e7212a')\"\n",
              "              title=\"Convert this dataframe to an interactive table.\"\n",
              "              style=\"display:none;\">\n",
              "        \n",
              "  <svg xmlns=\"http://www.w3.org/2000/svg\" height=\"24px\"viewBox=\"0 0 24 24\"\n",
              "       width=\"24px\">\n",
              "    <path d=\"M0 0h24v24H0V0z\" fill=\"none\"/>\n",
              "    <path d=\"M18.56 5.44l.94 2.06.94-2.06 2.06-.94-2.06-.94-.94-2.06-.94 2.06-2.06.94zm-11 1L8.5 8.5l.94-2.06 2.06-.94-2.06-.94L8.5 2.5l-.94 2.06-2.06.94zm10 10l.94 2.06.94-2.06 2.06-.94-2.06-.94-.94-2.06-.94 2.06-2.06.94z\"/><path d=\"M17.41 7.96l-1.37-1.37c-.4-.4-.92-.59-1.43-.59-.52 0-1.04.2-1.43.59L10.3 9.45l-7.72 7.72c-.78.78-.78 2.05 0 2.83L4 21.41c.39.39.9.59 1.41.59.51 0 1.02-.2 1.41-.59l7.78-7.78 2.81-2.81c.8-.78.8-2.07 0-2.86zM5.41 20L4 18.59l7.72-7.72 1.47 1.35L5.41 20z\"/>\n",
              "  </svg>\n",
              "      </button>\n",
              "      \n",
              "  <style>\n",
              "    .colab-df-container {\n",
              "      display:flex;\n",
              "      flex-wrap:wrap;\n",
              "      gap: 12px;\n",
              "    }\n",
              "\n",
              "    .colab-df-convert {\n",
              "      background-color: #E8F0FE;\n",
              "      border: none;\n",
              "      border-radius: 50%;\n",
              "      cursor: pointer;\n",
              "      display: none;\n",
              "      fill: #1967D2;\n",
              "      height: 32px;\n",
              "      padding: 0 0 0 0;\n",
              "      width: 32px;\n",
              "    }\n",
              "\n",
              "    .colab-df-convert:hover {\n",
              "      background-color: #E2EBFA;\n",
              "      box-shadow: 0px 1px 2px rgba(60, 64, 67, 0.3), 0px 1px 3px 1px rgba(60, 64, 67, 0.15);\n",
              "      fill: #174EA6;\n",
              "    }\n",
              "\n",
              "    [theme=dark] .colab-df-convert {\n",
              "      background-color: #3B4455;\n",
              "      fill: #D2E3FC;\n",
              "    }\n",
              "\n",
              "    [theme=dark] .colab-df-convert:hover {\n",
              "      background-color: #434B5C;\n",
              "      box-shadow: 0px 1px 3px 1px rgba(0, 0, 0, 0.15);\n",
              "      filter: drop-shadow(0px 1px 2px rgba(0, 0, 0, 0.3));\n",
              "      fill: #FFFFFF;\n",
              "    }\n",
              "  </style>\n",
              "\n",
              "      <script>\n",
              "        const buttonEl =\n",
              "          document.querySelector('#df-5368e5ab-2e16-414e-bf3d-6db993e7212a button.colab-df-convert');\n",
              "        buttonEl.style.display =\n",
              "          google.colab.kernel.accessAllowed ? 'block' : 'none';\n",
              "\n",
              "        async function convertToInteractive(key) {\n",
              "          const element = document.querySelector('#df-5368e5ab-2e16-414e-bf3d-6db993e7212a');\n",
              "          const dataTable =\n",
              "            await google.colab.kernel.invokeFunction('convertToInteractive',\n",
              "                                                     [key], {});\n",
              "          if (!dataTable) return;\n",
              "\n",
              "          const docLinkHtml = 'Like what you see? Visit the ' +\n",
              "            '<a target=\"_blank\" href=https://colab.research.google.com/notebooks/data_table.ipynb>data table notebook</a>'\n",
              "            + ' to learn more about interactive tables.';\n",
              "          element.innerHTML = '';\n",
              "          dataTable['output_type'] = 'display_data';\n",
              "          await google.colab.output.renderOutput(dataTable, element);\n",
              "          const docLink = document.createElement('div');\n",
              "          docLink.innerHTML = docLinkHtml;\n",
              "          element.appendChild(docLink);\n",
              "        }\n",
              "      </script>\n",
              "    </div>\n",
              "  </div>\n",
              "  "
            ]
          },
          "metadata": {},
          "execution_count": 7
        }
      ],
      "source": [
        "# Accessing the dataset\n",
        "url = 'https://raw.githubusercontent.com/alyshapm/coral-reef-bleaching/main/NOAA_ReefCheck/NOAA_int.csv'\n",
        "df = pd.read_csv(url)\n",
        "df.head()"
      ]
    },
    {
      "cell_type": "code",
      "source": [
        "# Histogram of the dataset\n",
        "df.hist(bins=50, figsize=(15,10))\n",
        "plt.show()"
      ],
      "metadata": {
        "colab": {
          "base_uri": "https://localhost:8080/",
          "height": 607
        },
        "id": "EwT_Fpez9KLO",
        "outputId": "7bb89077-d4c3-48b7-9dea-b30898a959a9"
      },
      "execution_count": 8,
      "outputs": [
        {
          "output_type": "display_data",
          "data": {
            "text/plain": [
              "<Figure size 1080x720 with 12 Axes>"
            ],
            "image/png": "[encoded data removed]"
          },
          "metadata": {
            "needs_background": "light"
          }
        }
      ]
    },
    {
      "cell_type": "code",
      "source": [
        "# Correlations of the dataset\n",
        "df.corr()"
      ],
      "metadata": {
        "colab": {
          "base_uri": "https://localhost:8080/",
          "height": 394
        },
        "id": "X50nkLX9AQPR",
        "outputId": "c47dc1a1-3ff6-4fa7-867e-e66d2cc1f1bc"
      },
      "execution_count": 9,
      "outputs": [
        {
          "output_type": "execute_result",
          "data": {
            "text/plain": [
              "             Bleaching      Year     Depth    Storms  HumanImpact  Siltation  \\\n",
              "Bleaching     1.000000 -0.240223  0.009700  0.009698     0.005644  -0.141501   \n",
              "Year         -0.240223  1.000000 -0.033320 -0.017736     0.020537   0.204994   \n",
              "Depth         0.009700 -0.033320  1.000000 -0.015096    -0.050125  -0.066802   \n",
              "Storms        0.009698 -0.017736 -0.015096  1.000000     0.058480  -0.000932   \n",
              "HumanImpact   0.005644  0.020537 -0.050125  0.058480     1.000000   0.253754   \n",
              "Siltation    -0.141501  0.204994 -0.066802 -0.000932     0.253754   1.000000   \n",
              "Dynamite      0.038111 -0.005609  0.013688 -0.045574     0.247977   0.012735   \n",
              "Poison        0.024965 -0.037029 -0.002401 -0.043580     0.243045   0.040179   \n",
              "Sewage        0.000872  0.053167  0.016850 -0.030109     0.372817   0.201693   \n",
              "Industrial    0.009740  0.039224  0.039402 -0.024760     0.211980   0.197093   \n",
              "Commercial   -0.126843  0.209361  0.102916  0.006605     0.209635   0.266505   \n",
              "\n",
              "             Dynamite    Poison    Sewage  Industrial  Commercial  \n",
              "Bleaching    0.038111  0.024965  0.000872    0.009740   -0.126843  \n",
              "Year        -0.005609 -0.037029  0.053167    0.039224    0.209361  \n",
              "Depth        0.013688 -0.002401  0.016850    0.039402    0.102916  \n",
              "Storms      -0.045574 -0.043580 -0.030109   -0.024760    0.006605  \n",
              "HumanImpact  0.247977  0.243045  0.372817    0.211980    0.209635  \n",
              "Siltation    0.012735  0.040179  0.201693    0.197093    0.266505  \n",
              "Dynamite     1.000000  0.739551  0.078760    0.128826    0.176601  \n",
              "Poison       0.739551  1.000000  0.132345    0.141309    0.176474  \n",
              "Sewage       0.078760  0.132345  1.000000    0.311043    0.246182  \n",
              "Industrial   0.128826  0.141309  0.311043    1.000000    0.176768  \n",
              "Commercial   0.176601  0.176474  0.246182    0.176768    1.000000  "
            ],
            "text/html": [
              "\n",
              "  <div id=\"df-5f2c0a0c-5f48-49a5-b007-2ce9604d1aac\">\n",
              "    <div class=\"colab-df-container\">\n",
              "      <div>\n",
              "<style scoped>\n",
              "    .dataframe tbody tr th:only-of-type {\n",
              "        vertical-align: middle;\n",
              "    }\n",
              "\n",
              "    .dataframe tbody tr th {\n",
              "        vertical-align: top;\n",
              "    }\n",
              "\n",
              "    .dataframe thead th {\n",
              "        text-align: right;\n",
              "    }\n",
              "</style>\n",
              "<table border=\"1\" class=\"dataframe\">\n",
              "  <thead>\n",
              "    <tr style=\"text-align: right;\">\n",
              "      <th></th>\n",
              "      <th>Bleaching</th>\n",
              "      <th>Year</th>\n",
              "      <th>Depth</th>\n",
              "      <th>Storms</th>\n",
              "      <th>HumanImpact</th>\n",
              "      <th>Siltation</th>\n",
              "      <th>Dynamite</th>\n",
              "      <th>Poison</th>\n",
              "      <th>Sewage</th>\n",
              "      <th>Industrial</th>\n",
              "      <th>Commercial</th>\n",
              "    </tr>\n",
              "  </thead>\n",
              "  <tbody>\n",
              "    <tr>\n",
              "      <th>Bleaching</th>\n",
              "      <td>1.000000</td>\n",
              "      <td>-0.240223</td>\n",
              "      <td>0.009700</td>\n",
              "      <td>0.009698</td>\n",
              "      <td>0.005644</td>\n",
              "      <td>-0.141501</td>\n",
              "      <td>0.038111</td>\n",
              "      <td>0.024965</td>\n",
              "      <td>0.000872</td>\n",
              "      <td>0.009740</td>\n",
              "      <td>-0.126843</td>\n",
              "    </tr>\n",
              "    <tr>\n",
              "      <th>Year</th>\n",
              "      <td>-0.240223</td>\n",
              "      <td>1.000000</td>\n",
              "      <td>-0.033320</td>\n",
              "      <td>-0.017736</td>\n",
              "      <td>0.020537</td>\n",
              "      <td>0.204994</td>\n",
              "      <td>-0.005609</td>\n",
              "      <td>-0.037029</td>\n",
              "      <td>0.053167</td>\n",
              "      <td>0.039224</td>\n",
              "      <td>0.209361</td>\n",
              "    </tr>\n",
              "    <tr>\n",
              "      <th>Depth</th>\n",
              "      <td>0.009700</td>\n",
              "      <td>-0.033320</td>\n",
              "      <td>1.000000</td>\n",
              "      <td>-0.015096</td>\n",
              "      <td>-0.050125</td>\n",
              "      <td>-0.066802</td>\n",
              "      <td>0.013688</td>\n",
              "      <td>-0.002401</td>\n",
              "      <td>0.016850</td>\n",
              "      <td>0.039402</td>\n",
              "      <td>0.102916</td>\n",
              "    </tr>\n",
              "    <tr>\n",
              "      <th>Storms</th>\n",
              "      <td>0.009698</td>\n",
              "      <td>-0.017736</td>\n",
              "      <td>-0.015096</td>\n",
              "      <td>1.000000</td>\n",
              "      <td>0.058480</td>\n",
              "      <td>-0.000932</td>\n",
              "      <td>-0.045574</td>\n",
              "      <td>-0.043580</td>\n",
              "      <td>-0.030109</td>\n",
              "      <td>-0.024760</td>\n",
              "      <td>0.006605</td>\n",
              "    </tr>\n",
              "    <tr>\n",
              "      <th>HumanImpact</th>\n",
              "      <td>0.005644</td>\n",
              "      <td>0.020537</td>\n",
              "      <td>-0.050125</td>\n",
              "      <td>0.058480</td>\n",
              "      <td>1.000000</td>\n",
              "      <td>0.253754</td>\n",
              "      <td>0.247977</td>\n",
              "      <td>0.243045</td>\n",
              "      <td>0.372817</td>\n",
              "      <td>0.211980</td>\n",
              "      <td>0.209635</td>\n",
              "    </tr>\n",
              "    <tr>\n",
              "      <th>Siltation</th>\n",
              "      <td>-0.141501</td>\n",
              "      <td>0.204994</td>\n",
              "      <td>-0.066802</td>\n",
              "      <td>-0.000932</td>\n",
              "      <td>0.253754</td>\n",
              "      <td>1.000000</td>\n",
              "      <td>0.012735</td>\n",
              "      <td>0.040179</td>\n",
              "      <td>0.201693</td>\n",
              "      <td>0.197093</td>\n",
              "      <td>0.266505</td>\n",
              "    </tr>\n",
              "    <tr>\n",
              "      <th>Dynamite</th>\n",
              "      <td>0.038111</td>\n",
              "      <td>-0.005609</td>\n",
              "      <td>0.013688</td>\n",
              "      <td>-0.045574</td>\n",
              "      <td>0.247977</td>\n",
              "      <td>0.012735</td>\n",
              "      <td>1.000000</td>\n",
              "      <td>0.739551</td>\n",
              "      <td>0.078760</td>\n",
              "      <td>0.128826</td>\n",
              "      <td>0.176601</td>\n",
              "    </tr>\n",
              "    <tr>\n",
              "      <th>Poison</th>\n",
              "      <td>0.024965</td>\n",
              "      <td>-0.037029</td>\n",
              "      <td>-0.002401</td>\n",
              "      <td>-0.043580</td>\n",
              "      <td>0.243045</td>\n",
              "      <td>0.040179</td>\n",
              "      <td>0.739551</td>\n",
              "      <td>1.000000</td>\n",
              "      <td>0.132345</td>\n",
              "      <td>0.141309</td>\n",
              "      <td>0.176474</td>\n",
              "    </tr>\n",
              "    <tr>\n",
              "      <th>Sewage</th>\n",
              "      <td>0.000872</td>\n",
              "      <td>0.053167</td>\n",
              "      <td>0.016850</td>\n",
              "      <td>-0.030109</td>\n",
              "      <td>0.372817</td>\n",
              "      <td>0.201693</td>\n",
              "      <td>0.078760</td>\n",
              "      <td>0.132345</td>\n",
              "      <td>1.000000</td>\n",
              "      <td>0.311043</td>\n",
              "      <td>0.246182</td>\n",
              "    </tr>\n",
              "    <tr>\n",
              "      <th>Industrial</th>\n",
              "      <td>0.009740</td>\n",
              "      <td>0.039224</td>\n",
              "      <td>0.039402</td>\n",
              "      <td>-0.024760</td>\n",
              "      <td>0.211980</td>\n",
              "      <td>0.197093</td>\n",
              "      <td>0.128826</td>\n",
              "      <td>0.141309</td>\n",
              "      <td>0.311043</td>\n",
              "      <td>1.000000</td>\n",
              "      <td>0.176768</td>\n",
              "    </tr>\n",
              "    <tr>\n",
              "      <th>Commercial</th>\n",
              "      <td>-0.126843</td>\n",
              "      <td>0.209361</td>\n",
              "      <td>0.102916</td>\n",
              "      <td>0.006605</td>\n",
              "      <td>0.209635</td>\n",
              "      <td>0.266505</td>\n",
              "      <td>0.176601</td>\n",
              "      <td>0.176474</td>\n",
              "      <td>0.246182</td>\n",
              "      <td>0.176768</td>\n",
              "      <td>1.000000</td>\n",
              "    </tr>\n",
              "  </tbody>\n",
              "</table>\n",
              "</div>\n",
              "      <button class=\"colab-df-convert\" onclick=\"convertToInteractive('df-5f2c0a0c-5f48-49a5-b007-2ce9604d1aac')\"\n",
              "              title=\"Convert this dataframe to an interactive table.\"\n",
              "              style=\"display:none;\">\n",
              "        \n",
              "  <svg xmlns=\"http://www.w3.org/2000/svg\" height=\"24px\"viewBox=\"0 0 24 24\"\n",
              "       width=\"24px\">\n",
              "    <path d=\"M0 0h24v24H0V0z\" fill=\"none\"/>\n",
              "    <path d=\"M18.56 5.44l.94 2.06.94-2.06 2.06-.94-2.06-.94-.94-2.06-.94 2.06-2.06.94zm-11 1L8.5 8.5l.94-2.06 2.06-.94-2.06-.94L8.5 2.5l-.94 2.06-2.06.94zm10 10l.94 2.06.94-2.06 2.06-.94-2.06-.94-.94-2.06-.94 2.06-2.06.94z\"/><path d=\"M17.41 7.96l-1.37-1.37c-.4-.4-.92-.59-1.43-.59-.52 0-1.04.2-1.43.59L10.3 9.45l-7.72 7.72c-.78.78-.78 2.05 0 2.83L4 21.41c.39.39.9.59 1.41.59.51 0 1.02-.2 1.41-.59l7.78-7.78 2.81-2.81c.8-.78.8-2.07 0-2.86zM5.41 20L4 18.59l7.72-7.72 1.47 1.35L5.41 20z\"/>\n",
              "  </svg>\n",
              "      </button>\n",
              "      \n",
              "  <style>\n",
              "    .colab-df-container {\n",
              "      display:flex;\n",
              "      flex-wrap:wrap;\n",
              "      gap: 12px;\n",
              "    }\n",
              "\n",
              "    .colab-df-convert {\n",
              "      background-color: #E8F0FE;\n",
              "      border: none;\n",
              "      border-radius: 50%;\n",
              "      cursor: pointer;\n",
              "      display: none;\n",
              "      fill: #1967D2;\n",
              "      height: 32px;\n",
              "      padding: 0 0 0 0;\n",
              "      width: 32px;\n",
              "    }\n",
              "\n",
              "    .colab-df-convert:hover {\n",
              "      background-color: #E2EBFA;\n",
              "      box-shadow: 0px 1px 2px rgba(60, 64, 67, 0.3), 0px 1px 3px 1px rgba(60, 64, 67, 0.15);\n",
              "      fill: #174EA6;\n",
              "    }\n",
              "\n",
              "    [theme=dark] .colab-df-convert {\n",
              "      background-color: #3B4455;\n",
              "      fill: #D2E3FC;\n",
              "    }\n",
              "\n",
              "    [theme=dark] .colab-df-convert:hover {\n",
              "      background-color: #434B5C;\n",
              "      box-shadow: 0px 1px 3px 1px rgba(0, 0, 0, 0.15);\n",
              "      filter: drop-shadow(0px 1px 2px rgba(0, 0, 0, 0.3));\n",
              "      fill: #FFFFFF;\n",
              "    }\n",
              "  </style>\n",
              "\n",
              "      <script>\n",
              "        const buttonEl =\n",
              "          document.querySelector('#df-5f2c0a0c-5f48-49a5-b007-2ce9604d1aac button.colab-df-convert');\n",
              "        buttonEl.style.display =\n",
              "          google.colab.kernel.accessAllowed ? 'block' : 'none';\n",
              "\n",
              "        async function convertToInteractive(key) {\n",
              "          const element = document.querySelector('#df-5f2c0a0c-5f48-49a5-b007-2ce9604d1aac');\n",
              "          const dataTable =\n",
              "            await google.colab.kernel.invokeFunction('convertToInteractive',\n",
              "                                                     [key], {});\n",
              "          if (!dataTable) return;\n",
              "\n",
              "          const docLinkHtml = 'Like what you see? Visit the ' +\n",
              "            '<a target=\"_blank\" href=https://colab.research.google.com/notebooks/data_table.ipynb>data table notebook</a>'\n",
              "            + ' to learn more about interactive tables.';\n",
              "          element.innerHTML = '';\n",
              "          dataTable['output_type'] = 'display_data';\n",
              "          await google.colab.output.renderOutput(dataTable, element);\n",
              "          const docLink = document.createElement('div');\n",
              "          docLink.innerHTML = docLinkHtml;\n",
              "          element.appendChild(docLink);\n",
              "        }\n",
              "      </script>\n",
              "    </div>\n",
              "  </div>\n",
              "  "
            ]
          },
          "metadata": {},
          "execution_count": 9
        }
      ]
    },
    {
      "cell_type": "code",
      "source": [
        "# Pearson correlation\n",
        "corr_matrix = df.corr(method=\"pearson\")\n",
        "sns.heatmap(corr_matrix, vmin=-1., vmax=1., annot=True, fmt='.2f', cmap=\"YlGnBu\", cbar=True, linewidths=0.5)\n",
        "plt.title(\"pearson correlation\")"
      ],
      "metadata": {
        "colab": {
          "base_uri": "https://localhost:8080/",
          "height": 359
        },
        "id": "xgbeLTc8go7m",
        "outputId": "61829809-21fb-43da-de48-ef9259926e63"
      },
      "execution_count": 10,
      "outputs": [
        {
          "output_type": "execute_result",
          "data": {
            "text/plain": [
              "Text(0.5, 1.0, 'pearson correlation')"
            ]
          },
          "metadata": {},
          "execution_count": 10
        },
        {
          "output_type": "display_data",
          "data": {
            "text/plain": [
              "<Figure size 432x288 with 2 Axes>"
            ],
            "image/png": "[encoded data removed]"
          },
          "metadata": {
            "needs_background": "light"
          }
        }
      ]
    },
    {
      "cell_type": "markdown",
      "source": [
        "# One Way Anova\n"
      ],
      "metadata": {
        "id": "SbZUGvdQAIgX"
      }
    },
    {
      "cell_type": "code",
      "source": [
        "# FOR STORMS\n",
        "cat, num = \"Bleaching\", \"Storms\"\n",
        "model = smf.ols(num+' ~ '+cat, data=df).fit()\n",
        "table = sm.stats.anova_lm(model)\n",
        "p = table[\"PR(>F)\"][0]\n",
        "coeff, p = None, round(p, 3)\n",
        "conclusion = \"Correlated\" if p < 0.05 else \"Non-Correlated\"\n",
        "print(\"Anova F: the variables are\", conclusion, \"(p-value: \"+str(p)+\")\")"
      ],
      "metadata": {
        "colab": {
          "base_uri": "https://localhost:8080/"
        },
        "id": "LdXwEJv5AQ0V",
        "outputId": "aa75377e-ec95-4bf5-e7c2-d2cff87e428f"
      },
      "execution_count": 12,
      "outputs": [
        {
          "output_type": "stream",
          "name": "stdout",
          "text": [
            "Anova F: the variables are Non-Correlated (p-value: 0.355)\n"
          ]
        }
      ]
    },
    {
      "cell_type": "code",
      "source": [
        "# FOR HUMANIMPACT\n",
        "cat, num = \"Bleaching\", \"HumanImpact\"\n",
        "model = smf.ols(num+' ~ '+cat, data=df).fit()\n",
        "table = sm.stats.anova_lm(model)\n",
        "p = table[\"PR(>F)\"][0]\n",
        "coeff, p = None, round(p, 3)\n",
        "conclusion = \"Correlated\" if p < 0.05 else \"Non-Correlated\"\n",
        "print(\"Anova F: the variables are\", conclusion, \"(p-value: \"+str(p)+\")\")"
      ],
      "metadata": {
        "colab": {
          "base_uri": "https://localhost:8080/"
        },
        "id": "cxoFt6JPAdFR",
        "outputId": "93f8745d-588d-4da7-b30b-51e7cd5df6cf"
      },
      "execution_count": 13,
      "outputs": [
        {
          "output_type": "stream",
          "name": "stdout",
          "text": [
            "Anova F: the variables are Non-Correlated (p-value: 0.59)\n"
          ]
        }
      ]
    },
    {
      "cell_type": "code",
      "source": [
        "# FOR SILTATION\n",
        "cat, num = \"Bleaching\", \"Siltation\"\n",
        "model = smf.ols(num+' ~ '+cat, data=df).fit()\n",
        "table = sm.stats.anova_lm(model)\n",
        "p = table[\"PR(>F)\"][0]\n",
        "coeff, p = None, round(p, 3)\n",
        "conclusion = \"Correlated\" if p < 0.05 else \"Non-Correlated\"\n",
        "print(\"Anova F: the variables are\", conclusion, \"(p-value: \"+str(p)+\")\")"
      ],
      "metadata": {
        "colab": {
          "base_uri": "https://localhost:8080/"
        },
        "id": "kyx0yDoNAh3X",
        "outputId": "6dffd9a1-8383-4b45-8d5f-551899bf4891"
      },
      "execution_count": 14,
      "outputs": [
        {
          "output_type": "stream",
          "name": "stdout",
          "text": [
            "Anova F: the variables are Correlated (p-value: 0.0)\n"
          ]
        }
      ]
    },
    {
      "cell_type": "code",
      "source": [
        "# FOR DYNAMITE\n",
        "cat, num = \"Bleaching\", \"Dynamite\"\n",
        "model = smf.ols(num+' ~ '+cat, data=df).fit()\n",
        "table = sm.stats.anova_lm(model)\n",
        "p = table[\"PR(>F)\"][0]\n",
        "coeff, p = None, round(p, 3)\n",
        "conclusion = \"Correlated\" if p < 0.05 else \"Non-Correlated\"\n",
        "print(\"Anova F: the variables are\", conclusion, \"(p-value: \"+str(p)+\")\")"
      ],
      "metadata": {
        "colab": {
          "base_uri": "https://localhost:8080/"
        },
        "id": "6WAJf2GNAl7A",
        "outputId": "7707e9ff-f10e-4b71-e6bf-1228426a08bd"
      },
      "execution_count": 17,
      "outputs": [
        {
          "output_type": "stream",
          "name": "stdout",
          "text": [
            "Anova F: the variables are Correlated (p-value: 0.0)\n"
          ]
        }
      ]
    },
    {
      "cell_type": "code",
      "source": [
        "# FOR POISON\n",
        "cat, num = \"Bleaching\", \"Poison\"\n",
        "model = smf.ols(num+' ~ '+cat, data=df).fit()\n",
        "table = sm.stats.anova_lm(model)\n",
        "p = table[\"PR(>F)\"][0]\n",
        "coeff, p = None, round(p, 3)\n",
        "conclusion = \"Correlated\" if p < 0.05 else \"Non-Correlated\"\n",
        "print(\"Anova F: the variables are\", conclusion, \"(p-value: \"+str(p)+\")\")"
      ],
      "metadata": {
        "colab": {
          "base_uri": "https://localhost:8080/"
        },
        "id": "BpdPxxReAqER",
        "outputId": "433787da-1fff-439f-b141-142252e95979"
      },
      "execution_count": 18,
      "outputs": [
        {
          "output_type": "stream",
          "name": "stdout",
          "text": [
            "Anova F: the variables are Correlated (p-value: 0.017)\n"
          ]
        }
      ]
    },
    {
      "cell_type": "code",
      "source": [
        "# FOR SEWAGE\n",
        "cat, num = \"Bleaching\", \"Sewage\"\n",
        "model = smf.ols(num+' ~ '+cat, data=df).fit()\n",
        "table = sm.stats.anova_lm(model)\n",
        "p = table[\"PR(>F)\"][0]\n",
        "coeff, p = None, round(p, 3)\n",
        "conclusion = \"Correlated\" if p < 0.05 else \"Non-Correlated\"\n",
        "print(\"Anova F: the variables are\", conclusion, \"(p-value: \"+str(p)+\")\")"
      ],
      "metadata": {
        "colab": {
          "base_uri": "https://localhost:8080/"
        },
        "id": "tkgItDWMAsmI",
        "outputId": "0a3c9fb4-b414-490c-e4dc-3f5857a78bad"
      },
      "execution_count": 19,
      "outputs": [
        {
          "output_type": "stream",
          "name": "stdout",
          "text": [
            "Anova F: the variables are Non-Correlated (p-value: 0.934)\n"
          ]
        }
      ]
    },
    {
      "cell_type": "code",
      "source": [
        "# FOR INDUSTRIAL\n",
        "cat, num = \"Bleaching\", \"Industrial\"\n",
        "model = smf.ols(num+' ~ '+cat, data=df).fit()\n",
        "table = sm.stats.anova_lm(model)\n",
        "p = table[\"PR(>F)\"][0]\n",
        "coeff, p = None, round(p, 3)\n",
        "conclusion = \"Correlated\" if p < 0.05 else \"Non-Correlated\"\n",
        "print(\"Anova F: the variables are\", conclusion, \"(p-value: \"+str(p)+\")\")"
      ],
      "metadata": {
        "colab": {
          "base_uri": "https://localhost:8080/"
        },
        "id": "gCp_0aXdAz1W",
        "outputId": "82b20901-7077-4059-dbed-788f7931ec63"
      },
      "execution_count": 21,
      "outputs": [
        {
          "output_type": "stream",
          "name": "stdout",
          "text": [
            "Anova F: the variables are Non-Correlated (p-value: 0.353)\n"
          ]
        }
      ]
    },
    {
      "cell_type": "code",
      "source": [
        "# FOR COMMERCIAL\n",
        "cat, num = \"Bleaching\", \"Storms\"\n",
        "model = smf.ols(num+' ~ '+cat, data=df).fit()\n",
        "table = sm.stats.anova_lm(model)\n",
        "p = table[\"PR(>F)\"][0]\n",
        "coeff, p = None, round(p, 3)\n",
        "conclusion = \"Correlated\" if p < 0.05 else \"Non-Correlated\"\n",
        "print(\"Anova F: the variables are\", conclusion, \"(p-value: \"+str(p)+\")\")"
      ],
      "metadata": {
        "colab": {
          "base_uri": "https://localhost:8080/"
        },
        "id": "yADyGtI7A3Hw",
        "outputId": "8c417217-a3ae-4a15-b0a1-00b3f7d7a9ec"
      },
      "execution_count": 22,
      "outputs": [
        {
          "output_type": "stream",
          "name": "stdout",
          "text": [
            "Anova F: the variables are Non-Correlated (p-value: 0.355)\n"
          ]
        }
      ]
    },
    {
      "cell_type": "markdown",
      "source": [
        "# Visualizing Bleaching"
      ],
      "metadata": {
        "id": "CJ_aLvd32d39"
      }
    },
    {
      "cell_type": "code",
      "source": [
        "# Checking the number of bleached and not bleached corals in the dataset\n",
        "bleached = df[df['Bleaching']==1]['Bleaching'].count()\n",
        "notbleached = df[df['Bleaching']==0]['Bleaching'].count()\n",
        "print(\"Number of bleached: \", bleached)\n",
        "print(\"Number of not bleached: \", notbleached)"
      ],
      "metadata": {
        "colab": {
          "base_uri": "https://localhost:8080/"
        },
        "id": "Ed9txvUa2dpZ",
        "outputId": "72a940cb-bcb9-47fb-891a-b4b11eb75aa9"
      },
      "execution_count": 26,
      "outputs": [
        {
          "output_type": "stream",
          "name": "stdout",
          "text": [
            "Number of bleached:  255\n",
            "Number of not bleached:  8856\n"
          ]
        }
      ]
    },
    {
      "cell_type": "code",
      "source": [
        "# Checking to see if the totals add up\n",
        "df.info()\n",
        "\n",
        "print(\"Total: \", bleached + notbleached)"
      ],
      "metadata": {
        "colab": {
          "base_uri": "https://localhost:8080/"
        },
        "id": "UZudx9la4KVq",
        "outputId": "da8a0ba3-7cdc-46f2-a7fa-351586608930"
      },
      "execution_count": 27,
      "outputs": [
        {
          "output_type": "stream",
          "name": "stdout",
          "text": [
            "<class 'pandas.core.frame.DataFrame'>\n",
            "RangeIndex: 9111 entries, 0 to 9110\n",
            "Data columns (total 12 columns):\n",
            " #   Column       Non-Null Count  Dtype  \n",
            "---  ------       --------------  -----  \n",
            " 0   Bleaching    9111 non-null   int64  \n",
            " 1   Ocean        9111 non-null   object \n",
            " 2   Year         9111 non-null   int64  \n",
            " 3   Depth        9111 non-null   float64\n",
            " 4   Storms       9111 non-null   int64  \n",
            " 5   HumanImpact  9111 non-null   int64  \n",
            " 6   Siltation    9111 non-null   int64  \n",
            " 7   Dynamite     9111 non-null   int64  \n",
            " 8   Poison       9111 non-null   int64  \n",
            " 9   Sewage       9111 non-null   int64  \n",
            " 10  Industrial   9111 non-null   int64  \n",
            " 11  Commercial   9111 non-null   int64  \n",
            "dtypes: float64(1), int64(10), object(1)\n",
            "memory usage: 854.3+ KB\n",
            "Total:  9111\n"
          ]
        }
      ]
    },
    {
      "cell_type": "code",
      "source": [
        "# Creating a pie chart to visualize\n",
        "names = [\"Not Bleached\", \"Bleached\"]\n",
        "data = [notbleached, bleached]\n",
        "\n",
        "# Creating the plot\n",
        "fig, ax = plt.subplots(figsize =(10, 7))\n",
        "plt.pie(data, labels = names)\n",
        "ax.set_title(\"Distribution of Bleaching in NOAA Dataset\")\n",
        "plt.show()"
      ],
      "metadata": {
        "colab": {
          "base_uri": "https://localhost:8080/",
          "height": 427
        },
        "id": "K9Afu4nD4p8T",
        "outputId": "335b7b94-b6df-47f3-c2c3-c18621e79e9c"
      },
      "execution_count": 28,
      "outputs": [
        {
          "output_type": "display_data",
          "data": {
            "text/plain": [
              "<Figure size 720x504 with 1 Axes>"
            ],
            "image/png": "[encoded data removed]"
          },
          "metadata": {}
        }
      ]
    },
    {
      "cell_type": "code",
      "source": [
        "plt.bar(names, data)\n",
        "plt.title('Distribution of Bleaching in NOAA Dataset')\n",
        "plt.ylabel('Number of Corals')\n",
        "plt.show()"
      ],
      "metadata": {
        "colab": {
          "base_uri": "https://localhost:8080/",
          "height": 281
        },
        "id": "1WlWTxGBR62u",
        "outputId": "b775b7d8-95d4-439e-a3de-40b318897549"
      },
      "execution_count": 29,
      "outputs": [
        {
          "output_type": "display_data",
          "data": {
            "text/plain": [
              "<Figure size 432x288 with 1 Axes>"
            ],
            "image/png": "[encoded data removed]"
          },
          "metadata": {
            "needs_background": "light"
          }
        }
      ]
    },
    {
      "cell_type": "markdown",
      "source": [
        "# Visualizing Human Impact"
      ],
      "metadata": {
        "id": "qhRtTCJF5aAQ"
      }
    },
    {
      "cell_type": "code",
      "source": [
        "# Counting the numbers of none, low, moderate, and high entries\n",
        "HInone = df[df['HumanImpact']==0]['HumanImpact'].count()\n",
        "HIlow = df[df['HumanImpact']==1]['HumanImpact'].count()\n",
        "HImoderate = df[df['HumanImpact']==2]['HumanImpact'].count()\n",
        "HIhigh = df[df['HumanImpact']==3]['HumanImpact'].count()"
      ],
      "metadata": {
        "id": "vMY7RF2E57du"
      },
      "execution_count": 30,
      "outputs": []
    },
    {
      "cell_type": "code",
      "source": [
        "desc = ['none', 'low', 'moderate', 'high']\n",
        "data = [HInone, HIlow, HImoderate, HIhigh]\n",
        "\n",
        "plt.bar(desc, data)\n",
        "plt.title('Distribution of Human Impact in NOAA Dataset')\n",
        "plt.xlabel('Severity')\n",
        "plt.ylabel('Number of Corals')\n",
        "plt.show()"
      ],
      "metadata": {
        "colab": {
          "base_uri": "https://localhost:8080/",
          "height": 295
        },
        "id": "ftyo6yI-6JKo",
        "outputId": "1f6ea50f-64f5-491c-bd21-c4b8f889e9ef"
      },
      "execution_count": 31,
      "outputs": [
        {
          "output_type": "display_data",
          "data": {
            "text/plain": [
              "<Figure size 432x288 with 1 Axes>"
            ],
            "image/png": "[encoded data removed]"
          },
          "metadata": {
            "needs_background": "light"
          }
        }
      ]
    },
    {
      "cell_type": "markdown",
      "source": [
        "# Visualizing Siltation"
      ],
      "metadata": {
        "id": "yUifqZ3l7wSa"
      }
    },
    {
      "cell_type": "code",
      "source": [
        "# Counting the numbers of never, occasionally, often, and always entries\n",
        "SILTnever = df[df['Siltation']==0]['Siltation'].count()\n",
        "SILToccasionally = df[df['Siltation']==1]['Siltation'].count()\n",
        "SILToften = df[df['Siltation']==2]['Siltation'].count()\n",
        "SILTalways = df[df['Siltation']==3]['Siltation'].count()"
      ],
      "metadata": {
        "id": "ZPPGlGhc9c69"
      },
      "execution_count": 32,
      "outputs": []
    },
    {
      "cell_type": "code",
      "source": [
        "desc = ['never', 'occasionally', 'often', 'always']\n",
        "data = [SILTnever, SILToccasionally, SILToften, SILTalways]\n",
        "\n",
        "plt.bar(desc, data)\n",
        "plt.title('Distribution of Siltation in NOAA Dataset')\n",
        "plt.xlabel('Frequency')\n",
        "plt.ylabel('Number of Corals')\n",
        "plt.show()"
      ],
      "metadata": {
        "colab": {
          "base_uri": "https://localhost:8080/",
          "height": 295
        },
        "id": "W9qkZQVs9pqV",
        "outputId": "f2075b24-aeef-4899-b9cf-405437de71ea"
      },
      "execution_count": 33,
      "outputs": [
        {
          "output_type": "display_data",
          "data": {
            "text/plain": [
              "<Figure size 432x288 with 1 Axes>"
            ],
            "image/png": "[encoded data removed]"
          },
          "metadata": {
            "needs_background": "light"
          }
        }
      ]
    },
    {
      "cell_type": "markdown",
      "source": [
        "# Visualizing Dynamite\n"
      ],
      "metadata": {
        "id": "PYjAUYMX-Kep"
      }
    },
    {
      "cell_type": "code",
      "source": [
        "# Counting the numbers of none, low, moderate, and high entries\n",
        "DYnone = df[df['Dynamite']==0]['Dynamite'].count()\n",
        "DYlow = df[df['Dynamite']==1]['Dynamite'].count()\n",
        "DYmoderate = df[df['Dynamite']==2]['Dynamite'].count()\n",
        "DYhigh = df[df['Dynamite']==3]['Dynamite'].count()"
      ],
      "metadata": {
        "id": "3oQvSjyY-OUD"
      },
      "execution_count": 34,
      "outputs": []
    },
    {
      "cell_type": "code",
      "source": [
        "desc = ['none', 'low', 'moderate', 'high']\n",
        "data = [DYnone, DYlow, DYmoderate, DYhigh]\n",
        "\n",
        "plt.bar(desc, data)\n",
        "plt.title('Distribution of Dynamite in NOAA Dataset')\n",
        "plt.xlabel('Severity')\n",
        "plt.ylabel('Number of Corals')\n",
        "plt.show()"
      ],
      "metadata": {
        "colab": {
          "base_uri": "https://localhost:8080/",
          "height": 295
        },
        "id": "z-Tn-cQy-WV2",
        "outputId": "ef6ee148-aad1-42ab-d2e5-5d8ce530ad22"
      },
      "execution_count": 35,
      "outputs": [
        {
          "output_type": "display_data",
          "data": {
            "text/plain": [
              "<Figure size 432x288 with 1 Axes>"
            ],
            "image/png": "[encoded data removed]"
          },
          "metadata": {
            "needs_background": "light"
          }
        }
      ]
    },
    {
      "cell_type": "markdown",
      "source": [
        "# Visualizing Poison"
      ],
      "metadata": {
        "id": "w2DoGjT0-b46"
      }
    },
    {
      "cell_type": "code",
      "source": [
        "# Counting the numbers of none, low, moderate, and high entries\n",
        "POInone = df[df['Poison']==0]['Poison'].count()\n",
        "POIlow = df[df['Poison']==1]['Poison'].count()\n",
        "POImoderate = df[df['Poison']==2]['Poison'].count()\n",
        "POIhigh = df[df['Poison']==3]['Poison'].count()"
      ],
      "metadata": {
        "id": "QD8mc7kJ-jr0"
      },
      "execution_count": 36,
      "outputs": []
    },
    {
      "cell_type": "code",
      "source": [
        "desc = ['none', 'low', 'moderate', 'high']\n",
        "data = [POInone, POIlow, POImoderate, POIhigh]\n",
        "\n",
        "plt.bar(desc, data)\n",
        "plt.title('Distribution of Poison in NOAA Dataset')\n",
        "plt.xlabel('Severity')\n",
        "plt.ylabel('Number of Corals')\n",
        "plt.show()"
      ],
      "metadata": {
        "colab": {
          "base_uri": "https://localhost:8080/",
          "height": 295
        },
        "id": "p5utm-1z-nBg",
        "outputId": "92d22660-57d1-4d38-a05a-94f24a1c88d2"
      },
      "execution_count": 37,
      "outputs": [
        {
          "output_type": "display_data",
          "data": {
            "text/plain": [
              "<Figure size 432x288 with 1 Axes>"
            ],
            "image/png": "[encoded data removed]"
          },
          "metadata": {
            "needs_background": "light"
          }
        }
      ]
    },
    {
      "cell_type": "markdown",
      "source": [
        "# Visualizing Sewage"
      ],
      "metadata": {
        "id": "cFK1XNGX_U_D"
      }
    },
    {
      "cell_type": "code",
      "source": [
        "# Counting the numbers of none, low, moderate, and high entries\n",
        "SEWnone = df[df['Sewage']==0]['Sewage'].count()\n",
        "SEWlow = df[df['Sewage']==1]['Sewage'].count()\n",
        "SEWmoderate = df[df['Sewage']==2]['Sewage'].count()\n",
        "SEWhigh = df[df['Sewage']==3]['Sewage'].count()"
      ],
      "metadata": {
        "id": "wBmKBmdd_bMy"
      },
      "execution_count": 38,
      "outputs": []
    },
    {
      "cell_type": "code",
      "source": [
        "desc = ['none', 'low', 'moderate', 'high']\n",
        "data = [SEWnone, SEWlow, SEWmoderate, SEWhigh]\n",
        "\n",
        "plt.bar(desc, data)\n",
        "plt.title('Distribution of Sewage in NOAA Dataset')\n",
        "plt.xlabel('Severity')\n",
        "plt.ylabel('Number of Corals')\n",
        "plt.show()"
      ],
      "metadata": {
        "colab": {
          "base_uri": "https://localhost:8080/",
          "height": 295
        },
        "id": "yNdHP7MT_epC",
        "outputId": "3134a2ff-6b6a-472a-af6e-cfd77aa81825"
      },
      "execution_count": 39,
      "outputs": [
        {
          "output_type": "display_data",
          "data": {
            "text/plain": [
              "<Figure size 432x288 with 1 Axes>"
            ],
            "image/png": "[encoded data removed]"
          },
          "metadata": {
            "needs_background": "light"
          }
        }
      ]
    },
    {
      "cell_type": "markdown",
      "source": [
        "# Visualizing Industrial"
      ],
      "metadata": {
        "id": "VmLp5Ghd_qDh"
      }
    },
    {
      "cell_type": "code",
      "source": [
        "# Counting the numbers of none, low, moderate, and high entries\n",
        "INDnone = df[df['Industrial']==0]['Industrial'].count()\n",
        "INDlow = df[df['Industrial']==1]['Industrial'].count()\n",
        "INDmoderate = df[df['Industrial']==2]['Industrial'].count()\n",
        "INDhigh = df[df['Industrial']==3]['Industrial'].count()"
      ],
      "metadata": {
        "id": "TT2RAyAy_ubh"
      },
      "execution_count": 40,
      "outputs": []
    },
    {
      "cell_type": "code",
      "source": [
        "desc = ['none', 'low', 'moderate', 'high']\n",
        "data = [INDnone, INDlow, INDmoderate, INDhigh]\n",
        "\n",
        "plt.bar(desc, data)\n",
        "plt.title('Distribution of Industrial in NOAA Dataset')\n",
        "plt.xlabel('Severity')\n",
        "plt.ylabel('Number of Corals')\n",
        "plt.show()"
      ],
      "metadata": {
        "colab": {
          "base_uri": "https://localhost:8080/",
          "height": 295
        },
        "id": "yH2J-6GS_3c6",
        "outputId": "1e45147d-3e82-44e0-eaef-08a2584e2aa2"
      },
      "execution_count": 41,
      "outputs": [
        {
          "output_type": "display_data",
          "data": {
            "text/plain": [
              "<Figure size 432x288 with 1 Axes>"
            ],
            "image/png": "[encoded data removed]"
          },
          "metadata": {
            "needs_background": "light"
          }
        }
      ]
    },
    {
      "cell_type": "markdown",
      "source": [
        "# Visualizing Commercial"
      ],
      "metadata": {
        "id": "b3WdC1BR_-3n"
      }
    },
    {
      "cell_type": "code",
      "source": [
        "# Counting the numbers of none, low, moderate, and high entries\n",
        "COMnone = df[df['Commercial']==0]['Commercial'].count()\n",
        "COMlow = df[df['Commercial']==1]['Commercial'].count()\n",
        "COMmoderate = df[df['Commercial']==2]['Commercial'].count()\n",
        "COMhigh = df[df['Commercial']==3]['Commercial'].count()"
      ],
      "metadata": {
        "id": "9-ZHLx86AC3j"
      },
      "execution_count": 42,
      "outputs": []
    },
    {
      "cell_type": "code",
      "source": [
        "desc = ['none', 'low', 'moderate', 'high']\n",
        "data = [COMnone, COMlow, COMmoderate, COMhigh]\n",
        "\n",
        "plt.bar(desc, data)\n",
        "plt.title('Distribution of Commercial in NOAA Dataset')\n",
        "plt.xlabel('Severity')\n",
        "plt.ylabel('Number of Corals')\n",
        "plt.show()"
      ],
      "metadata": {
        "colab": {
          "base_uri": "https://localhost:8080/",
          "height": 295
        },
        "id": "_mcg1uiiAKCY",
        "outputId": "d30b26e5-4a16-4128-e389-1c5eb720929d"
      },
      "execution_count": 43,
      "outputs": [
        {
          "output_type": "display_data",
          "data": {
            "text/plain": [
              "<Figure size 432x288 with 1 Axes>"
            ],
            "image/png": "[encoded data removed]"
          },
          "metadata": {
            "needs_background": "light"
          }
        }
      ]
    }
  ]
}
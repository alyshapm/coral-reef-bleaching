{
  "nbformat": 4,
  "nbformat_minor": 0,
  "metadata": {
    "colab": {
      "provenance": []
    },
    "kernelspec": {
      "name": "python3",
      "display_name": "Python 3"
    },
    "language_info": {
      "name": "python"
    }
  },
  "cells": [
    {
      "cell_type": "markdown",
      "source": [
        "# Support Vector Machine Algorithm\n",
        "Dataset: NOAA Reef Check Bleaching Data from Kaggle\n",
        "\n",
        "Link: https://www.kaggle.com/datasets/oasisdata/noaa-reef-check-coral-bleaching-data\n",
        "\n",
        "The dataset has been prepared beforehand and the CSV can be found at:\n",
        "\n",
        "https://github.com/alyshapm/coral-reef-bleaching/blob/main/NOAA_ReefCheck/NOAA_int.csv\n",
        "\n",
        "The dataset will be tested with different kernels of SVM and the results will be compared."
      ],
      "metadata": {
        "id": "QIHEW1vm8UOR"
      }
    },
    {
      "cell_type": "code",
      "source": [
        "# Importing necessary libraries\n",
        "import pandas as pd\n",
        "from sklearn.svm import SVC\n",
        "from sklearn.metrics import accuracy_score, confusion_matrix, classification_report\n",
        "from sklearn.model_selection import train_test_split\n",
        "import matplotlib.pyplot as plt"
      ],
      "metadata": {
        "id": "3keYnVjP8Wng"
      },
      "execution_count": 7,
      "outputs": []
    },
    {
      "cell_type": "code",
      "source": [
        "# Accessing the dataset\n",
        "url = 'https://raw.githubusercontent.com/alyshapm/coral-reef-bleaching/main/NOAA_ReefCheck/NOAA_int.csv'\n",
        "df = pd.read_csv(url)\n",
        "df.head()"
      ],
      "metadata": {
        "colab": {
          "base_uri": "https://localhost:8080/",
          "height": 206
        },
        "id": "8tspr2FM9rQH",
        "outputId": "36020685-e082-4d1a-da23-99432b293f5a"
      },
      "execution_count": 8,
      "outputs": [
        {
          "output_type": "execute_result",
          "data": {
            "text/plain": [
              "   Bleaching     Ocean  Year  Depth  Storms  HumanImpact  Siltation  Dynamite  \\\n",
              "0          0  Atlantic  2005    4.0       1            3          2         0   \n",
              "1          0   Red Sea  2004    6.0       0            3          1         0   \n",
              "2          0   Pacific  1998    3.0       0            1          0         0   \n",
              "3          0   Pacific  1998   10.0       0            1          0         0   \n",
              "4          0  Atlantic  1997   10.0       0            3          0         0   \n",
              "\n",
              "   Poison  Sewage  Industrial  Commercial  \n",
              "0       0       3           0           0  \n",
              "1       0       1           0           0  \n",
              "2       0       0           1           0  \n",
              "3       0       0           1           0  \n",
              "4       0       3           2           0  "
            ],
            "text/html": [
              "\n",
              "  <div id=\"df-050a233c-713a-4783-9c41-deb82b0edaac\">\n",
              "    <div class=\"colab-df-container\">\n",
              "      <div>\n",
              "<style scoped>\n",
              "    .dataframe tbody tr th:only-of-type {\n",
              "        vertical-align: middle;\n",
              "    }\n",
              "\n",
              "    .dataframe tbody tr th {\n",
              "        vertical-align: top;\n",
              "    }\n",
              "\n",
              "    .dataframe thead th {\n",
              "        text-align: right;\n",
              "    }\n",
              "</style>\n",
              "<table border=\"1\" class=\"dataframe\">\n",
              "  <thead>\n",
              "    <tr style=\"text-align: right;\">\n",
              "      <th></th>\n",
              "      <th>Bleaching</th>\n",
              "      <th>Ocean</th>\n",
              "      <th>Year</th>\n",
              "      <th>Depth</th>\n",
              "      <th>Storms</th>\n",
              "      <th>HumanImpact</th>\n",
              "      <th>Siltation</th>\n",
              "      <th>Dynamite</th>\n",
              "      <th>Poison</th>\n",
              "      <th>Sewage</th>\n",
              "      <th>Industrial</th>\n",
              "      <th>Commercial</th>\n",
              "    </tr>\n",
              "  </thead>\n",
              "  <tbody>\n",
              "    <tr>\n",
              "      <th>0</th>\n",
              "      <td>0</td>\n",
              "      <td>Atlantic</td>\n",
              "      <td>2005</td>\n",
              "      <td>4.0</td>\n",
              "      <td>1</td>\n",
              "      <td>3</td>\n",
              "      <td>2</td>\n",
              "      <td>0</td>\n",
              "      <td>0</td>\n",
              "      <td>3</td>\n",
              "      <td>0</td>\n",
              "      <td>0</td>\n",
              "    </tr>\n",
              "    <tr>\n",
              "      <th>1</th>\n",
              "      <td>0</td>\n",
              "      <td>Red Sea</td>\n",
              "      <td>2004</td>\n",
              "      <td>6.0</td>\n",
              "      <td>0</td>\n",
              "      <td>3</td>\n",
              "      <td>1</td>\n",
              "      <td>0</td>\n",
              "      <td>0</td>\n",
              "      <td>1</td>\n",
              "      <td>0</td>\n",
              "      <td>0</td>\n",
              "    </tr>\n",
              "    <tr>\n",
              "      <th>2</th>\n",
              "      <td>0</td>\n",
              "      <td>Pacific</td>\n",
              "      <td>1998</td>\n",
              "      <td>3.0</td>\n",
              "      <td>0</td>\n",
              "      <td>1</td>\n",
              "      <td>0</td>\n",
              "      <td>0</td>\n",
              "      <td>0</td>\n",
              "      <td>0</td>\n",
              "      <td>1</td>\n",
              "      <td>0</td>\n",
              "    </tr>\n",
              "    <tr>\n",
              "      <th>3</th>\n",
              "      <td>0</td>\n",
              "      <td>Pacific</td>\n",
              "      <td>1998</td>\n",
              "      <td>10.0</td>\n",
              "      <td>0</td>\n",
              "      <td>1</td>\n",
              "      <td>0</td>\n",
              "      <td>0</td>\n",
              "      <td>0</td>\n",
              "      <td>0</td>\n",
              "      <td>1</td>\n",
              "      <td>0</td>\n",
              "    </tr>\n",
              "    <tr>\n",
              "      <th>4</th>\n",
              "      <td>0</td>\n",
              "      <td>Atlantic</td>\n",
              "      <td>1997</td>\n",
              "      <td>10.0</td>\n",
              "      <td>0</td>\n",
              "      <td>3</td>\n",
              "      <td>0</td>\n",
              "      <td>0</td>\n",
              "      <td>0</td>\n",
              "      <td>3</td>\n",
              "      <td>2</td>\n",
              "      <td>0</td>\n",
              "    </tr>\n",
              "  </tbody>\n",
              "</table>\n",
              "</div>\n",
              "      <button class=\"colab-df-convert\" onclick=\"convertToInteractive('df-050a233c-713a-4783-9c41-deb82b0edaac')\"\n",
              "              title=\"Convert this dataframe to an interactive table.\"\n",
              "              style=\"display:none;\">\n",
              "        \n",
              "  <svg xmlns=\"http://www.w3.org/2000/svg\" height=\"24px\"viewBox=\"0 0 24 24\"\n",
              "       width=\"24px\">\n",
              "    <path d=\"M0 0h24v24H0V0z\" fill=\"none\"/>\n",
              "    <path d=\"M18.56 5.44l.94 2.06.94-2.06 2.06-.94-2.06-.94-.94-2.06-.94 2.06-2.06.94zm-11 1L8.5 8.5l.94-2.06 2.06-.94-2.06-.94L8.5 2.5l-.94 2.06-2.06.94zm10 10l.94 2.06.94-2.06 2.06-.94-2.06-.94-.94-2.06-.94 2.06-2.06.94z\"/><path d=\"M17.41 7.96l-1.37-1.37c-.4-.4-.92-.59-1.43-.59-.52 0-1.04.2-1.43.59L10.3 9.45l-7.72 7.72c-.78.78-.78 2.05 0 2.83L4 21.41c.39.39.9.59 1.41.59.51 0 1.02-.2 1.41-.59l7.78-7.78 2.81-2.81c.8-.78.8-2.07 0-2.86zM5.41 20L4 18.59l7.72-7.72 1.47 1.35L5.41 20z\"/>\n",
              "  </svg>\n",
              "      </button>\n",
              "      \n",
              "  <style>\n",
              "    .colab-df-container {\n",
              "      display:flex;\n",
              "      flex-wrap:wrap;\n",
              "      gap: 12px;\n",
              "    }\n",
              "\n",
              "    .colab-df-convert {\n",
              "      background-color: #E8F0FE;\n",
              "      border: none;\n",
              "      border-radius: 50%;\n",
              "      cursor: pointer;\n",
              "      display: none;\n",
              "      fill: #1967D2;\n",
              "      height: 32px;\n",
              "      padding: 0 0 0 0;\n",
              "      width: 32px;\n",
              "    }\n",
              "\n",
              "    .colab-df-convert:hover {\n",
              "      background-color: #E2EBFA;\n",
              "      box-shadow: 0px 1px 2px rgba(60, 64, 67, 0.3), 0px 1px 3px 1px rgba(60, 64, 67, 0.15);\n",
              "      fill: #174EA6;\n",
              "    }\n",
              "\n",
              "    [theme=dark] .colab-df-convert {\n",
              "      background-color: #3B4455;\n",
              "      fill: #D2E3FC;\n",
              "    }\n",
              "\n",
              "    [theme=dark] .colab-df-convert:hover {\n",
              "      background-color: #434B5C;\n",
              "      box-shadow: 0px 1px 3px 1px rgba(0, 0, 0, 0.15);\n",
              "      filter: drop-shadow(0px 1px 2px rgba(0, 0, 0, 0.3));\n",
              "      fill: #FFFFFF;\n",
              "    }\n",
              "  </style>\n",
              "\n",
              "      <script>\n",
              "        const buttonEl =\n",
              "          document.querySelector('#df-050a233c-713a-4783-9c41-deb82b0edaac button.colab-df-convert');\n",
              "        buttonEl.style.display =\n",
              "          google.colab.kernel.accessAllowed ? 'block' : 'none';\n",
              "\n",
              "        async function convertToInteractive(key) {\n",
              "          const element = document.querySelector('#df-050a233c-713a-4783-9c41-deb82b0edaac');\n",
              "          const dataTable =\n",
              "            await google.colab.kernel.invokeFunction('convertToInteractive',\n",
              "                                                     [key], {});\n",
              "          if (!dataTable) return;\n",
              "\n",
              "          const docLinkHtml = 'Like what you see? Visit the ' +\n",
              "            '<a target=\"_blank\" href=https://colab.research.google.com/notebooks/data_table.ipynb>data table notebook</a>'\n",
              "            + ' to learn more about interactive tables.';\n",
              "          element.innerHTML = '';\n",
              "          dataTable['output_type'] = 'display_data';\n",
              "          await google.colab.output.renderOutput(dataTable, element);\n",
              "          const docLink = document.createElement('div');\n",
              "          docLink.innerHTML = docLinkHtml;\n",
              "          element.appendChild(docLink);\n",
              "        }\n",
              "      </script>\n",
              "    </div>\n",
              "  </div>\n",
              "  "
            ]
          },
          "metadata": {},
          "execution_count": 8
        }
      ]
    },
    {
      "cell_type": "code",
      "source": [
        "df.info()"
      ],
      "metadata": {
        "colab": {
          "base_uri": "https://localhost:8080/"
        },
        "id": "4h-e3u0nDL0x",
        "outputId": "cbeede3b-76ed-415e-c571-9e6bde0d3462"
      },
      "execution_count": 9,
      "outputs": [
        {
          "output_type": "stream",
          "name": "stdout",
          "text": [
            "<class 'pandas.core.frame.DataFrame'>\n",
            "RangeIndex: 9111 entries, 0 to 9110\n",
            "Data columns (total 12 columns):\n",
            " #   Column       Non-Null Count  Dtype  \n",
            "---  ------       --------------  -----  \n",
            " 0   Bleaching    9111 non-null   int64  \n",
            " 1   Ocean        9111 non-null   object \n",
            " 2   Year         9111 non-null   int64  \n",
            " 3   Depth        9111 non-null   float64\n",
            " 4   Storms       9111 non-null   int64  \n",
            " 5   HumanImpact  9111 non-null   int64  \n",
            " 6   Siltation    9111 non-null   int64  \n",
            " 7   Dynamite     9111 non-null   int64  \n",
            " 8   Poison       9111 non-null   int64  \n",
            " 9   Sewage       9111 non-null   int64  \n",
            " 10  Industrial   9111 non-null   int64  \n",
            " 11  Commercial   9111 non-null   int64  \n",
            "dtypes: float64(1), int64(10), object(1)\n",
            "memory usage: 854.3+ KB\n"
          ]
        }
      ]
    },
    {
      "cell_type": "markdown",
      "source": [
        "# Testing Linear Kernel\n",
        "\n"
      ],
      "metadata": {
        "id": "p79VcS0kTAw2"
      }
    },
    {
      "cell_type": "code",
      "source": [
        "# Setting the target and features for the SVM\n",
        "target = df[\"Bleaching\"]\n",
        "features = df.drop([\"Bleaching\",\"Ocean\",\"Year\", \"Depth\"], axis=1)\n",
        "\n",
        "# Splitting the data into test and train sets\n",
        "X_train, X_test, y_train, y_test = train_test_split(features, target, test_size = 0.3, random_state = 10)"
      ],
      "metadata": {
        "id": "Fa5ppEwJZR_w"
      },
      "execution_count": 10,
      "outputs": []
    },
    {
      "cell_type": "code",
      "source": [
        "# Building the SVM on the train data\n",
        "linear_model = SVC(kernel='linear')\n",
        "linear_model.fit(X_train, y_train)\n",
        " \n",
        "linear_prediction = linear_model.predict(X_test)\n",
        "\n",
        "# Checking the accuracy for train and test data\n",
        "print(\"Train score: \", linear_model.score(X_train, y_train))\n",
        "print(\"Test score: \", linear_model.score(X_test, y_test))\n",
        "\n",
        "# Checking the confusion matrix\n",
        "print(\"Confusion Matrix:\\n\",confusion_matrix(linear_prediction, y_test))\n",
        "\n",
        "print(classification_report(linear_prediction, y_test, zero_division=0))"
      ],
      "metadata": {
        "colab": {
          "base_uri": "https://localhost:8080/"
        },
        "id": "umrOovuzEc22",
        "outputId": "2acb68ba-6075-4550-d07d-7ed313f9b541"
      },
      "execution_count": 12,
      "outputs": [
        {
          "output_type": "stream",
          "name": "stdout",
          "text": [
            "Train score:  0.9727144425278345\n",
            "Test score:  0.9703730797366495\n",
            "Confusion Matrix:\n",
            " [[2653   81]\n",
            " [   0    0]]\n",
            "              precision    recall  f1-score   support\n",
            "\n",
            "           0       1.00      0.97      0.98      2734\n",
            "           1       0.00      0.00      0.00         0\n",
            "\n",
            "    accuracy                           0.97      2734\n",
            "   macro avg       0.50      0.49      0.49      2734\n",
            "weighted avg       1.00      0.97      0.98      2734\n",
            "\n"
          ]
        }
      ]
    },
    {
      "cell_type": "markdown",
      "source": [
        "# Testing RBF Kernel"
      ],
      "metadata": {
        "id": "nQMzAPPiUpuo"
      }
    },
    {
      "cell_type": "code",
      "source": [
        "rbf_model = SVC(kernel='rbf')\n",
        "rbf_model.fit(X_train, y_train)\n",
        "\n",
        "rbf_prediction = rbf_model.predict(X_test)\n",
        "\n",
        "# Checking the accuracy for train and test data\n",
        "print(\"Train score: \", rbf_model.score(X_train, y_train))\n",
        "print(\"Test score: \", rbf_model.score(X_test, y_test))\n",
        "\n",
        "# Checking the confusion matrix\n",
        "print(\"Confusion Matrix:\\n\",confusion_matrix(rbf_prediction, y_test))\n",
        "\n",
        "print(classification_report(rbf_prediction, y_test, zero_division=0))"
      ],
      "metadata": {
        "colab": {
          "base_uri": "https://localhost:8080/"
        },
        "id": "7j35woYKYGqJ",
        "outputId": "20e26f23-9d43-4448-89a5-aa3146de3e01"
      },
      "execution_count": 13,
      "outputs": [
        {
          "output_type": "stream",
          "name": "stdout",
          "text": [
            "Train score:  0.9738121373686687\n",
            "Test score:  0.9707388441843453\n",
            "Confusion Matrix:\n",
            " [[2653   80]\n",
            " [   0    1]]\n",
            "              precision    recall  f1-score   support\n",
            "\n",
            "           0       1.00      0.97      0.99      2733\n",
            "           1       0.01      1.00      0.02         1\n",
            "\n",
            "    accuracy                           0.97      2734\n",
            "   macro avg       0.51      0.99      0.50      2734\n",
            "weighted avg       1.00      0.97      0.98      2734\n",
            "\n"
          ]
        }
      ]
    },
    {
      "cell_type": "markdown",
      "source": [
        "# Testing Polynomial Kernel"
      ],
      "metadata": {
        "id": "79skBKgVYgFy"
      }
    },
    {
      "cell_type": "code",
      "source": [
        "poly_model = SVC(kernel='poly')\n",
        "poly_model.fit(X_train, y_train)\n",
        "\n",
        "poly_prediction = poly_model.predict(X_test)\n",
        "\n",
        "# Checking the accuracy for train and test data\n",
        "print(\"Train score: \", poly_model.score(X_train, y_train))\n",
        "print(\"Test score: \", poly_model.score(X_test, y_test))\n",
        "\n",
        "# Checking the confusion matrix\n",
        "print(\"Confusion Matrix:\\n\",confusion_matrix(poly_prediction, y_test))\n",
        "\n",
        "print(classification_report(poly_prediction, y_test, zero_division=0))"
      ],
      "metadata": {
        "colab": {
          "base_uri": "https://localhost:8080/"
        },
        "id": "8KWnMJw-Y9-r",
        "outputId": "f5639f5c-e1c8-4cf3-c558-149567e71576"
      },
      "execution_count": 14,
      "outputs": [
        {
          "output_type": "stream",
          "name": "stdout",
          "text": [
            "Train score:  0.9744393915634311\n",
            "Test score:  0.9703730797366495\n",
            "Confusion Matrix:\n",
            " [[2652   80]\n",
            " [   1    1]]\n",
            "              precision    recall  f1-score   support\n",
            "\n",
            "           0       1.00      0.97      0.98      2732\n",
            "           1       0.01      0.50      0.02         2\n",
            "\n",
            "    accuracy                           0.97      2734\n",
            "   macro avg       0.51      0.74      0.50      2734\n",
            "weighted avg       1.00      0.97      0.98      2734\n",
            "\n"
          ]
        }
      ]
    },
    {
      "cell_type": "markdown",
      "source": [
        "# Testing Sigmoid Kernel"
      ],
      "metadata": {
        "id": "5qwBQCtCZVTG"
      }
    },
    {
      "cell_type": "code",
      "source": [
        "sigmoid_model = SVC(kernel='sigmoid')\n",
        "sigmoid_model.fit(X_train, y_train)\n",
        "\n",
        "sigmoid_prediction = sigmoid_model.predict(X_test)\n",
        "\n",
        "# Checking the accuracy for train and test data\n",
        "print(\"Train score: \", sigmoid_model.score(X_train, y_train))\n",
        "print(\"Test score: \", sigmoid_model.score(X_test, y_test))\n",
        "\n",
        "# Checking the confusion matrix\n",
        "print(\"Confusion Matrix:\\n\",confusion_matrix(sigmoid_prediction, y_test))\n",
        "\n",
        "print(classification_report(sigmoid_prediction, y_test, zero_division=0))"
      ],
      "metadata": {
        "colab": {
          "base_uri": "https://localhost:8080/"
        },
        "id": "AhZ0b6S7ZZb8",
        "outputId": "fbe92cd5-f92d-4c93-b50c-87b18ea0f5b6"
      },
      "execution_count": 15,
      "outputs": [
        {
          "output_type": "stream",
          "name": "stdout",
          "text": [
            "Train score:  0.9614238670221107\n",
            "Test score:  0.9604974396488661\n",
            "Confusion Matrix:\n",
            " [[2624   79]\n",
            " [  29    2]]\n",
            "              precision    recall  f1-score   support\n",
            "\n",
            "           0       0.99      0.97      0.98      2703\n",
            "           1       0.02      0.06      0.04        31\n",
            "\n",
            "    accuracy                           0.96      2734\n",
            "   macro avg       0.51      0.52      0.51      2734\n",
            "weighted avg       0.98      0.96      0.97      2734\n",
            "\n"
          ]
        }
      ]
    },
    {
      "cell_type": "markdown",
      "source": [
        "# Observation\n",
        "**Train Score:**\n",
        "* Linear: 0.9727144425278345\n",
        "* RBF: 0.9721459934138309\n",
        "* Polynomial: 0.9744393915634311\n",
        "* Sigmoid: 0.9614238670221107\n",
        "\n",
        "**Test Score:**\n",
        "* Linear: 0.9703730797366495\n",
        "* RBF: 0.9707388441843453\n",
        "* Polynomial: 0.9758639605046626\n",
        "* Sigmoid: 0.9604974396488661\n"
      ],
      "metadata": {
        "id": "4bb5qtd3Zwwp"
      }
    }
  ]
}
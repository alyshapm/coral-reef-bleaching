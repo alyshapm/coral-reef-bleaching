{
  "nbformat": 4,
  "nbformat_minor": 0,
  "metadata": {
    "colab": {
      "provenance": []
    },
    "kernelspec": {
      "name": "python3",
      "display_name": "Python 3"
    },
    "language_info": {
      "name": "python"
    }
  },
  "cells": [
    {
      "cell_type": "code",
      "source": [],
      "metadata": {
        "id": "zBNUw81P5ZMg"
      },
      "execution_count": null,
      "outputs": []
    },
    {
      "cell_type": "markdown",
      "source": [
        "# Data Preprocessing and Preparation\n",
        "Dataset: NOAA Reef Check Bleaching Data from Kaggle\n",
        "\n",
        "Link: https://www.kaggle.com/datasets/oasisdata/noaa-reef-check-coral-bleaching-data\n",
        "\n",
        "The data types of the dataset are mostly objects. For some machine learning algorithms, objects are not accepted.\n",
        "\n",
        "The data types will be changed to int or float.\n",
        "\n",
        "This is done by replacing the text into numbers based on the severity of the variable.\n",
        "\n",
        "Example:\n",
        "* None = 0\n",
        "* Low = 1\n",
        "* Moderate = 2\n",
        "* High = 3\n",
        "\n"
      ],
      "metadata": {
        "id": "pSf-yaip4u_m"
      }
    },
    {
      "cell_type": "code",
      "execution_count": 6,
      "metadata": {
        "id": "-8s8ORJJ3k_M"
      },
      "outputs": [],
      "source": [
        "# Importing the necessary libraries\n",
        "import pandas as pd"
      ]
    },
    {
      "cell_type": "code",
      "source": [
        "# Accessing the dataset\n",
        "url = 'https://raw.githubusercontent.com/alyshapm/coral-reef-bleaching/main/dataset/NOAA_Reef_Check__Bleaching_Data.csv'\n",
        "df = pd.read_csv(url)\n",
        "df.head()"
      ],
      "metadata": {
        "colab": {
          "base_uri": "https://localhost:8080/",
          "height": 287
        },
        "id": "P_g5vQhd4JUQ",
        "outputId": "b4098b7b-6c93-475e-ad99-938dba00fc61"
      },
      "execution_count": 7,
      "outputs": [
        {
          "output_type": "execute_result",
          "data": {
            "text/plain": [
              "  Bleaching     Ocean  Year  Depth Storms HumanImpact     Siltation Dynamite  \\\n",
              "0        No  Atlantic  2005    4.0    yes        high         often     none   \n",
              "1        No   Red Sea  2004    6.0     no        high  occasionally     none   \n",
              "2        No   Pacific  1998    3.0     no         low         never     none   \n",
              "3        No   Pacific  1998   10.0     no         low         never     none   \n",
              "4        No  Atlantic  1997   10.0     no        high         never     none   \n",
              "\n",
              "  Poison Sewage Industrial Commercial  \n",
              "0   none   high       none       none  \n",
              "1   none    low       none       none  \n",
              "2   none   none        low       none  \n",
              "3   none   none        low       none  \n",
              "4   none   high   moderate       none  "
            ],
            "text/html": [
              "\n",
              "  <div id=\"df-19286dfa-3973-435e-9600-d3b9d47a9d2f\">\n",
              "    <div class=\"colab-df-container\">\n",
              "      <div>\n",
              "<style scoped>\n",
              "    .dataframe tbody tr th:only-of-type {\n",
              "        vertical-align: middle;\n",
              "    }\n",
              "\n",
              "    .dataframe tbody tr th {\n",
              "        vertical-align: top;\n",
              "    }\n",
              "\n",
              "    .dataframe thead th {\n",
              "        text-align: right;\n",
              "    }\n",
              "</style>\n",
              "<table border=\"1\" class=\"dataframe\">\n",
              "  <thead>\n",
              "    <tr style=\"text-align: right;\">\n",
              "      <th></th>\n",
              "      <th>Bleaching</th>\n",
              "      <th>Ocean</th>\n",
              "      <th>Year</th>\n",
              "      <th>Depth</th>\n",
              "      <th>Storms</th>\n",
              "      <th>HumanImpact</th>\n",
              "      <th>Siltation</th>\n",
              "      <th>Dynamite</th>\n",
              "      <th>Poison</th>\n",
              "      <th>Sewage</th>\n",
              "      <th>Industrial</th>\n",
              "      <th>Commercial</th>\n",
              "    </tr>\n",
              "  </thead>\n",
              "  <tbody>\n",
              "    <tr>\n",
              "      <th>0</th>\n",
              "      <td>No</td>\n",
              "      <td>Atlantic</td>\n",
              "      <td>2005</td>\n",
              "      <td>4.0</td>\n",
              "      <td>yes</td>\n",
              "      <td>high</td>\n",
              "      <td>often</td>\n",
              "      <td>none</td>\n",
              "      <td>none</td>\n",
              "      <td>high</td>\n",
              "      <td>none</td>\n",
              "      <td>none</td>\n",
              "    </tr>\n",
              "    <tr>\n",
              "      <th>1</th>\n",
              "      <td>No</td>\n",
              "      <td>Red Sea</td>\n",
              "      <td>2004</td>\n",
              "      <td>6.0</td>\n",
              "      <td>no</td>\n",
              "      <td>high</td>\n",
              "      <td>occasionally</td>\n",
              "      <td>none</td>\n",
              "      <td>none</td>\n",
              "      <td>low</td>\n",
              "      <td>none</td>\n",
              "      <td>none</td>\n",
              "    </tr>\n",
              "    <tr>\n",
              "      <th>2</th>\n",
              "      <td>No</td>\n",
              "      <td>Pacific</td>\n",
              "      <td>1998</td>\n",
              "      <td>3.0</td>\n",
              "      <td>no</td>\n",
              "      <td>low</td>\n",
              "      <td>never</td>\n",
              "      <td>none</td>\n",
              "      <td>none</td>\n",
              "      <td>none</td>\n",
              "      <td>low</td>\n",
              "      <td>none</td>\n",
              "    </tr>\n",
              "    <tr>\n",
              "      <th>3</th>\n",
              "      <td>No</td>\n",
              "      <td>Pacific</td>\n",
              "      <td>1998</td>\n",
              "      <td>10.0</td>\n",
              "      <td>no</td>\n",
              "      <td>low</td>\n",
              "      <td>never</td>\n",
              "      <td>none</td>\n",
              "      <td>none</td>\n",
              "      <td>none</td>\n",
              "      <td>low</td>\n",
              "      <td>none</td>\n",
              "    </tr>\n",
              "    <tr>\n",
              "      <th>4</th>\n",
              "      <td>No</td>\n",
              "      <td>Atlantic</td>\n",
              "      <td>1997</td>\n",
              "      <td>10.0</td>\n",
              "      <td>no</td>\n",
              "      <td>high</td>\n",
              "      <td>never</td>\n",
              "      <td>none</td>\n",
              "      <td>none</td>\n",
              "      <td>high</td>\n",
              "      <td>moderate</td>\n",
              "      <td>none</td>\n",
              "    </tr>\n",
              "  </tbody>\n",
              "</table>\n",
              "</div>\n",
              "      <button class=\"colab-df-convert\" onclick=\"convertToInteractive('df-19286dfa-3973-435e-9600-d3b9d47a9d2f')\"\n",
              "              title=\"Convert this dataframe to an interactive table.\"\n",
              "              style=\"display:none;\">\n",
              "        \n",
              "  <svg xmlns=\"http://www.w3.org/2000/svg\" height=\"24px\"viewBox=\"0 0 24 24\"\n",
              "       width=\"24px\">\n",
              "    <path d=\"M0 0h24v24H0V0z\" fill=\"none\"/>\n",
              "    <path d=\"M18.56 5.44l.94 2.06.94-2.06 2.06-.94-2.06-.94-.94-2.06-.94 2.06-2.06.94zm-11 1L8.5 8.5l.94-2.06 2.06-.94-2.06-.94L8.5 2.5l-.94 2.06-2.06.94zm10 10l.94 2.06.94-2.06 2.06-.94-2.06-.94-.94-2.06-.94 2.06-2.06.94z\"/><path d=\"M17.41 7.96l-1.37-1.37c-.4-.4-.92-.59-1.43-.59-.52 0-1.04.2-1.43.59L10.3 9.45l-7.72 7.72c-.78.78-.78 2.05 0 2.83L4 21.41c.39.39.9.59 1.41.59.51 0 1.02-.2 1.41-.59l7.78-7.78 2.81-2.81c.8-.78.8-2.07 0-2.86zM5.41 20L4 18.59l7.72-7.72 1.47 1.35L5.41 20z\"/>\n",
              "  </svg>\n",
              "      </button>\n",
              "      \n",
              "  <style>\n",
              "    .colab-df-container {\n",
              "      display:flex;\n",
              "      flex-wrap:wrap;\n",
              "      gap: 12px;\n",
              "    }\n",
              "\n",
              "    .colab-df-convert {\n",
              "      background-color: #E8F0FE;\n",
              "      border: none;\n",
              "      border-radius: 50%;\n",
              "      cursor: pointer;\n",
              "      display: none;\n",
              "      fill: #1967D2;\n",
              "      height: 32px;\n",
              "      padding: 0 0 0 0;\n",
              "      width: 32px;\n",
              "    }\n",
              "\n",
              "    .colab-df-convert:hover {\n",
              "      background-color: #E2EBFA;\n",
              "      box-shadow: 0px 1px 2px rgba(60, 64, 67, 0.3), 0px 1px 3px 1px rgba(60, 64, 67, 0.15);\n",
              "      fill: #174EA6;\n",
              "    }\n",
              "\n",
              "    [theme=dark] .colab-df-convert {\n",
              "      background-color: #3B4455;\n",
              "      fill: #D2E3FC;\n",
              "    }\n",
              "\n",
              "    [theme=dark] .colab-df-convert:hover {\n",
              "      background-color: #434B5C;\n",
              "      box-shadow: 0px 1px 3px 1px rgba(0, 0, 0, 0.15);\n",
              "      filter: drop-shadow(0px 1px 2px rgba(0, 0, 0, 0.3));\n",
              "      fill: #FFFFFF;\n",
              "    }\n",
              "  </style>\n",
              "\n",
              "      <script>\n",
              "        const buttonEl =\n",
              "          document.querySelector('#df-19286dfa-3973-435e-9600-d3b9d47a9d2f button.colab-df-convert');\n",
              "        buttonEl.style.display =\n",
              "          google.colab.kernel.accessAllowed ? 'block' : 'none';\n",
              "\n",
              "        async function convertToInteractive(key) {\n",
              "          const element = document.querySelector('#df-19286dfa-3973-435e-9600-d3b9d47a9d2f');\n",
              "          const dataTable =\n",
              "            await google.colab.kernel.invokeFunction('convertToInteractive',\n",
              "                                                     [key], {});\n",
              "          if (!dataTable) return;\n",
              "\n",
              "          const docLinkHtml = 'Like what you see? Visit the ' +\n",
              "            '<a target=\"_blank\" href=https://colab.research.google.com/notebooks/data_table.ipynb>data table notebook</a>'\n",
              "            + ' to learn more about interactive tables.';\n",
              "          element.innerHTML = '';\n",
              "          dataTable['output_type'] = 'display_data';\n",
              "          await google.colab.output.renderOutput(dataTable, element);\n",
              "          const docLink = document.createElement('div');\n",
              "          docLink.innerHTML = docLinkHtml;\n",
              "          element.appendChild(docLink);\n",
              "        }\n",
              "      </script>\n",
              "    </div>\n",
              "  </div>\n",
              "  "
            ]
          },
          "metadata": {},
          "execution_count": 7
        }
      ]
    },
    {
      "cell_type": "code",
      "source": [
        "df.info()"
      ],
      "metadata": {
        "colab": {
          "base_uri": "https://localhost:8080/"
        },
        "id": "u3J0GKux4Nrc",
        "outputId": "8aec1420-dd23-4a1b-a36e-19209c28d178"
      },
      "execution_count": 8,
      "outputs": [
        {
          "output_type": "stream",
          "name": "stdout",
          "text": [
            "<class 'pandas.core.frame.DataFrame'>\n",
            "RangeIndex: 9111 entries, 0 to 9110\n",
            "Data columns (total 12 columns):\n",
            " #   Column       Non-Null Count  Dtype  \n",
            "---  ------       --------------  -----  \n",
            " 0   Bleaching    9111 non-null   object \n",
            " 1   Ocean        9111 non-null   object \n",
            " 2   Year         9111 non-null   int64  \n",
            " 3   Depth        9111 non-null   float64\n",
            " 4   Storms       9111 non-null   object \n",
            " 5   HumanImpact  9111 non-null   object \n",
            " 6   Siltation    9111 non-null   object \n",
            " 7   Dynamite     9111 non-null   object \n",
            " 8   Poison       9111 non-null   object \n",
            " 9   Sewage       9111 non-null   object \n",
            " 10  Industrial   9111 non-null   object \n",
            " 11  Commercial   9111 non-null   object \n",
            "dtypes: float64(1), int64(1), object(10)\n",
            "memory usage: 854.3+ KB\n"
          ]
        }
      ]
    },
    {
      "cell_type": "code",
      "source": [
        "# Replacing object in Bleaching to int\n",
        "df['Bleaching'] = df['Bleaching'].str.replace('No','0')\n",
        "df['Bleaching'] = df['Bleaching'].str.replace('Yes','1')\n",
        "df['Bleaching'] = df['Bleaching'].astype('int') "
      ],
      "metadata": {
        "id": "Jbh75QGZ4Pu1"
      },
      "execution_count": 9,
      "outputs": []
    },
    {
      "cell_type": "code",
      "source": [
        "# Replacing object in Storms to int\n",
        "df['Storms'] = df['Storms'].str.replace('no','0')\n",
        "df['Storms'] = df['Storms'].str.replace('yes','1')\n",
        "df['Storms'] = df['Storms'].astype('int')"
      ],
      "metadata": {
        "id": "umjZWvYm4VZQ"
      },
      "execution_count": 10,
      "outputs": []
    },
    {
      "cell_type": "code",
      "source": [
        "# Replacing object in HumanImpact to int\n",
        "df['HumanImpact'] = df['HumanImpact'].str.replace('high','3')\n",
        "df['HumanImpact'] = df['HumanImpact'].str.replace('moderate','2')\n",
        "df['HumanImpact'] = df['HumanImpact'].str.replace('low','1')\n",
        "df['HumanImpact'] = df['HumanImpact'].str.replace('none','0')\n",
        "df['HumanImpact'] = df['HumanImpact'].astype('int')"
      ],
      "metadata": {
        "id": "Z31bW2AY4Xlz"
      },
      "execution_count": 11,
      "outputs": []
    },
    {
      "cell_type": "code",
      "source": [
        "# Replacing object in Siltation to int\n",
        "df['Siltation'] = df['Siltation'].str.replace('always','3')\n",
        "df['Siltation'] = df['Siltation'].str.replace('often','2')\n",
        "df['Siltation'] = df['Siltation'].str.replace('occasionally','1')\n",
        "df['Siltation'] = df['Siltation'].str.replace('never','0')\n",
        "df['Siltation'] = df['Siltation'].astype('int')"
      ],
      "metadata": {
        "id": "NlRr85rw4aVF"
      },
      "execution_count": 12,
      "outputs": []
    },
    {
      "cell_type": "code",
      "source": [
        "# Replacing object in Dynamite to int\n",
        "df['Dynamite'] = df['Dynamite'].str.replace('high','3')\n",
        "df['Dynamite'] = df['Dynamite'].str.replace('moderate','2')\n",
        "df['Dynamite'] = df['Dynamite'].str.replace('low','1')\n",
        "df['Dynamite'] = df['Dynamite'].str.replace('none','0')\n",
        "df['Dynamite'] = df['Dynamite'].astype('int')"
      ],
      "metadata": {
        "id": "Lp_lVS014b_l"
      },
      "execution_count": 13,
      "outputs": []
    },
    {
      "cell_type": "code",
      "source": [
        "# Replacing object in Poison to int\n",
        "df['Poison'] = df['Poison'].str.replace('high','3')\n",
        "df['Poison'] = df['Poison'].str.replace('moderate','2')\n",
        "df['Poison'] = df['Poison'].str.replace('low','1')\n",
        "df['Poison'] = df['Poison'].str.replace('none','0')\n",
        "df['Poison'] = df['Poison'].astype('int')"
      ],
      "metadata": {
        "id": "rKj_Np694eGI"
      },
      "execution_count": 14,
      "outputs": []
    },
    {
      "cell_type": "code",
      "source": [
        "# Replacing object in Sewage to int\n",
        "df['Sewage'] = df['Sewage'].str.replace('high','3')\n",
        "df['Sewage'] = df['Sewage'].str.replace('moderate','2')\n",
        "df['Sewage'] = df['Sewage'].str.replace('low','1')\n",
        "df['Sewage'] = df['Sewage'].str.replace('none','0')\n",
        "df['Sewage'] = df['Sewage'].astype('int')"
      ],
      "metadata": {
        "id": "zb-FrjKK4f9x"
      },
      "execution_count": 15,
      "outputs": []
    },
    {
      "cell_type": "code",
      "source": [
        "# Replacing object in Industrial to int\n",
        "df['Industrial'] = df['Industrial'].str.replace('high','3')\n",
        "df['Industrial'] = df['Industrial'].str.replace('moderate','2')\n",
        "df['Industrial'] = df['Industrial'].str.replace('low','1')\n",
        "df['Industrial'] = df['Industrial'].str.replace('none','0')\n",
        "df['Industrial'] = df['Industrial'].astype('int')"
      ],
      "metadata": {
        "id": "ydqrxOHb4h7Z"
      },
      "execution_count": 16,
      "outputs": []
    },
    {
      "cell_type": "code",
      "source": [
        "# Replacing object in Commercial to int\n",
        "df['Commercial'] = df['Commercial'].str.replace('high','3')\n",
        "df['Commercial'] = df['Commercial'].str.replace('moderate','2')\n",
        "df['Commercial'] = df['Commercial'].str.replace('low','1')\n",
        "df['Commercial'] = df['Commercial'].str.replace('none','0')\n",
        "df['Commercial'] = df['Commercial'].astype('int')"
      ],
      "metadata": {
        "id": "f4EgSyks4jcD"
      },
      "execution_count": 17,
      "outputs": []
    },
    {
      "cell_type": "code",
      "source": [
        "# Checking that the datatypes of the variables have been changed\n",
        "df.info()"
      ],
      "metadata": {
        "colab": {
          "base_uri": "https://localhost:8080/"
        },
        "id": "GqwNaOcu4lOX",
        "outputId": "dd9a9bd2-8b8c-4909-b275-bc51631c9aed"
      },
      "execution_count": 18,
      "outputs": [
        {
          "output_type": "stream",
          "name": "stdout",
          "text": [
            "<class 'pandas.core.frame.DataFrame'>\n",
            "RangeIndex: 9111 entries, 0 to 9110\n",
            "Data columns (total 12 columns):\n",
            " #   Column       Non-Null Count  Dtype  \n",
            "---  ------       --------------  -----  \n",
            " 0   Bleaching    9111 non-null   int64  \n",
            " 1   Ocean        9111 non-null   object \n",
            " 2   Year         9111 non-null   int64  \n",
            " 3   Depth        9111 non-null   float64\n",
            " 4   Storms       9111 non-null   int64  \n",
            " 5   HumanImpact  9111 non-null   int64  \n",
            " 6   Siltation    9111 non-null   int64  \n",
            " 7   Dynamite     9111 non-null   int64  \n",
            " 8   Poison       9111 non-null   int64  \n",
            " 9   Sewage       9111 non-null   int64  \n",
            " 10  Industrial   9111 non-null   int64  \n",
            " 11  Commercial   9111 non-null   int64  \n",
            "dtypes: float64(1), int64(10), object(1)\n",
            "memory usage: 854.3+ KB\n"
          ]
        }
      ]
    },
    {
      "cell_type": "code",
      "source": [
        "# Exporting to CSV\n",
        "df.to_csv('NOAA_int.csv',index=False)"
      ],
      "metadata": {
        "id": "77KLhm_m4m8S"
      },
      "execution_count": 19,
      "outputs": []
    }
  ]
}